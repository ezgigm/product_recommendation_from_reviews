{
 "cells": [
  {
   "cell_type": "markdown",
   "metadata": {},
   "source": [
    "# First Look to the Data / Cleaning / EDA"
   ]
  },
  {
   "cell_type": "markdown",
   "metadata": {},
   "source": [
    "## Importance of Sentiment Analysis"
   ]
  },
  {
   "cell_type": "markdown",
   "metadata": {},
   "source": [
    "Sentiment analysis (also known as opinion mining or emotion AI) means text analysis with natural language processing. It is generally applied to [voice of the customer](https://en.wikipedia.org/wiki/Voice_of_the_customer) concepts such as reviews, surveys responses, social media. With sentiment analysis, positivity or negativity of text can be understood easily and quickly. As an example, politicians use this method to classify tweets about themselves for taking action. It is very important for companies also especially which sell their products online. In online stores, people do not have a chance to touch or see the products. Maybe the product is available in the market and you bought the same brand and same version of it online. But, when it is delivered you, it can be different than what you imagine still. So, customer experiences and voice of customer materials are getting more imporant for e-commerce. To increase customer satisfaction and to take strategic decisions, e-commerce companies must give more importance to reviews of customers. It is not easy to read every review and compare every product for taking action. Sentiment analysis makes it easier. With the sentiment analysis, reviews can be classified as positive and negative. It helps the company for quick and easy product analysis. \n",
    "\n",
    "More information about sentiment analysis can be found [here](https://en.wikipedia.org/wiki/Sentiment_analysis). There is an example from customer feedbacks below;\n"
   ]
  },
  {
   "attachments": {},
   "cell_type": "markdown",
   "metadata": {},
   "source": [
    "![title](images/example.png) "
   ]
  },
  {
   "cell_type": "markdown",
   "metadata": {},
   "source": [
    "*Image source : https://getthematic.com/insights/sentiment-analysis/*"
   ]
  },
  {
   "cell_type": "markdown",
   "metadata": {},
   "source": [
    "## Sentiment Analysis of Kindle Store Reviews"
   ]
  },
  {
   "cell_type": "markdown",
   "metadata": {},
   "source": [
    "In this project, I will work on sentiment analysis of Kindle Store reviews in Amazon. I choose this dataset because it is more easy to buy and read a book with Kindle. Going to the book store, finding a book which you like need more time than reaching every book from your tablet. Even people do not have to buy a Kindle to read online books from Kindle Store. When you download the Kindle App, you can reach all online books in Kindle Store from your laptop, phone or other devices."
   ]
  },
  {
   "cell_type": "markdown",
   "metadata": {},
   "source": [
    "## Aim of This Notebook"
   ]
  },
  {
   "cell_type": "markdown",
   "metadata": {},
   "source": [
    "Aim of this notebook is data understanding, preparation and exploration. In this notebook, I will download data, merge another column from different dataset and try to understand the columns interactions with each others and target with the help of visualizations. I will also discover which columns need to clean. Then, I will prepare my data to modeling. \n",
    "\n",
    "At the end of the this notebook, all explorations, which are obtained from the first look of the data, can be found as a list."
   ]
  },
  {
   "cell_type": "markdown",
   "metadata": {},
   "source": [
    "## Data Source"
   ]
  },
  {
   "cell_type": "markdown",
   "metadata": {},
   "source": [
    "The data is obtained from github.io page of [UC San Diego Computer Science and Engineering Department academic staff](https://nijianmo.github.io/amazon/index.html#subsets). Dataset contains product reviews and metadata, including 142.8 million reviews from May 1996 to July 2014. To download easily, some academic staff in computer science department at UCSD divided the data according to product categories. Kindle Store data is consisted of 5,722,988 reviews for 493,859 products. I prefer to use 5-core sample dataset(such that each of the remaining users and items have at least 5 reviews) and metadata for Kindle Store. The reasons to choose 5-core data is that continuous users contains more information than single reviewers. To reach and download metadata, people have to fill the form and submit it. \n",
    "\n",
    "The code of the getting data can be found [Getting_Data_from_json_Files notebook](https://github.com/ezgigm/product_recommendation_from_reviews/blob/master/Getting_Data_from_json_Files%20.ipynb).\n",
    "\n",
    "My main data contains 2,222,983 rows and 12 columns. Also, I used the metadata to find the corresponding names of the books from product ID. "
   ]
  },
  {
   "cell_type": "markdown",
   "metadata": {},
   "source": [
    "# Importing Necessary Libraries"
   ]
  },
  {
   "cell_type": "code",
   "execution_count": 177,
   "metadata": {},
   "outputs": [],
   "source": [
    "# dataframe and series \n",
    "import pandas as pd\n",
    "import numpy as np\n",
    "\n",
    "# sklearn imports for modeling part\n",
    "from sklearn.feature_extraction.text import TfidfVectorizer\n",
    "from sklearn.linear_model import LogisticRegression\n",
    "from sklearn.metrics import accuracy_score,balanced_accuracy_score\n",
    "from sklearn.model_selection import train_test_split\n",
    "\n",
    "from mlxtend.evaluate import confusion_matrix\n",
    "from mlxtend.plotting import plot_confusion_matrix\n",
    "from mlxtend.plotting import plot_decision_regions\n",
    "\n",
    "from sklearn.metrics import confusion_matrix\n",
    "\n",
    "# To plot\n",
    "import matplotlib.pyplot as plt  \n",
    "%matplotlib inline    \n",
    "import matplotlib as mpl\n",
    "import seaborn as sns"
   ]
  },
  {
   "cell_type": "code",
   "execution_count": 178,
   "metadata": {},
   "outputs": [],
   "source": [
    "pd.options.display.max_columns=100 # To see the hidden columns in dataframe"
   ]
  },
  {
   "cell_type": "markdown",
   "metadata": {},
   "source": [
    "# Importing Data from .csv"
   ]
  },
  {
   "cell_type": "code",
   "execution_count": 179,
   "metadata": {},
   "outputs": [],
   "source": [
    "df = pd.read_csv('kindle_data.csv', low_memory=False) #getting main data"
   ]
  },
  {
   "cell_type": "code",
   "execution_count": 180,
   "metadata": {},
   "outputs": [],
   "source": [
    "df_meta = pd.read_csv('kindle_meta_last.csv', low_memory=False) #getting metadata for title names"
   ]
  },
  {
   "cell_type": "code",
   "execution_count": 181,
   "metadata": {},
   "outputs": [
    {
     "data": {
      "text/html": [
       "<div>\n",
       "<style scoped>\n",
       "    .dataframe tbody tr th:only-of-type {\n",
       "        vertical-align: middle;\n",
       "    }\n",
       "\n",
       "    .dataframe tbody tr th {\n",
       "        vertical-align: top;\n",
       "    }\n",
       "\n",
       "    .dataframe thead th {\n",
       "        text-align: right;\n",
       "    }\n",
       "</style>\n",
       "<table border=\"1\" class=\"dataframe\">\n",
       "  <thead>\n",
       "    <tr style=\"text-align: right;\">\n",
       "      <th></th>\n",
       "      <th>overall</th>\n",
       "      <th>verified</th>\n",
       "      <th>reviewTime</th>\n",
       "      <th>reviewerID</th>\n",
       "      <th>asin</th>\n",
       "      <th>style</th>\n",
       "      <th>reviewerName</th>\n",
       "      <th>reviewText</th>\n",
       "      <th>summary</th>\n",
       "      <th>unixReviewTime</th>\n",
       "      <th>vote</th>\n",
       "      <th>image</th>\n",
       "    </tr>\n",
       "  </thead>\n",
       "  <tbody>\n",
       "    <tr>\n",
       "      <td>0</td>\n",
       "      <td>4.0</td>\n",
       "      <td>True</td>\n",
       "      <td>07 3, 2014</td>\n",
       "      <td>A2LSKD2H9U8N0J</td>\n",
       "      <td>B000FA5KK0</td>\n",
       "      <td>{'Format:': ' Kindle Edition'}</td>\n",
       "      <td>sandra sue marsolek</td>\n",
       "      <td>pretty good story, a little exaggerated, but I...</td>\n",
       "      <td>pretty good story</td>\n",
       "      <td>1404345600</td>\n",
       "      <td>NaN</td>\n",
       "      <td>NaN</td>\n",
       "    </tr>\n",
       "    <tr>\n",
       "      <td>1</td>\n",
       "      <td>5.0</td>\n",
       "      <td>True</td>\n",
       "      <td>05 26, 2014</td>\n",
       "      <td>A2QP13XTJND1QS</td>\n",
       "      <td>B000FA5KK0</td>\n",
       "      <td>{'Format:': ' Kindle Edition'}</td>\n",
       "      <td>Tpl</td>\n",
       "      <td>If you've read other max brand westerns, you k...</td>\n",
       "      <td>A very good book</td>\n",
       "      <td>1401062400</td>\n",
       "      <td>NaN</td>\n",
       "      <td>NaN</td>\n",
       "    </tr>\n",
       "    <tr>\n",
       "      <td>2</td>\n",
       "      <td>5.0</td>\n",
       "      <td>True</td>\n",
       "      <td>09 16, 2016</td>\n",
       "      <td>A8WQ7MAG3HFOZ</td>\n",
       "      <td>B000FA5KK0</td>\n",
       "      <td>{'Format:': ' Kindle Edition'}</td>\n",
       "      <td>Alverne F. Anderson</td>\n",
       "      <td>Love Max, always a fun twist</td>\n",
       "      <td>Five Stars</td>\n",
       "      <td>1473984000</td>\n",
       "      <td>NaN</td>\n",
       "      <td>NaN</td>\n",
       "    </tr>\n",
       "    <tr>\n",
       "      <td>3</td>\n",
       "      <td>5.0</td>\n",
       "      <td>True</td>\n",
       "      <td>03 3, 2016</td>\n",
       "      <td>A1E0MODSRYP7O</td>\n",
       "      <td>B000FA5KK0</td>\n",
       "      <td>{'Format:': ' Kindle Edition'}</td>\n",
       "      <td>Jeff</td>\n",
       "      <td>As usual for him, a good book</td>\n",
       "      <td>a good</td>\n",
       "      <td>1456963200</td>\n",
       "      <td>NaN</td>\n",
       "      <td>NaN</td>\n",
       "    </tr>\n",
       "    <tr>\n",
       "      <td>4</td>\n",
       "      <td>5.0</td>\n",
       "      <td>True</td>\n",
       "      <td>09 10, 2015</td>\n",
       "      <td>AYUTCGVSM1H7T</td>\n",
       "      <td>B000FA5KK0</td>\n",
       "      <td>{'Format:': ' Kindle Edition'}</td>\n",
       "      <td>DEHS - EddyRapcon</td>\n",
       "      <td>MB is one of the original western writers and ...</td>\n",
       "      <td>A Western</td>\n",
       "      <td>1441843200</td>\n",
       "      <td>2</td>\n",
       "      <td>NaN</td>\n",
       "    </tr>\n",
       "  </tbody>\n",
       "</table>\n",
       "</div>"
      ],
      "text/plain": [
       "   overall  verified   reviewTime      reviewerID        asin  \\\n",
       "0      4.0      True   07 3, 2014  A2LSKD2H9U8N0J  B000FA5KK0   \n",
       "1      5.0      True  05 26, 2014  A2QP13XTJND1QS  B000FA5KK0   \n",
       "2      5.0      True  09 16, 2016   A8WQ7MAG3HFOZ  B000FA5KK0   \n",
       "3      5.0      True   03 3, 2016   A1E0MODSRYP7O  B000FA5KK0   \n",
       "4      5.0      True  09 10, 2015   AYUTCGVSM1H7T  B000FA5KK0   \n",
       "\n",
       "                            style         reviewerName  \\\n",
       "0  {'Format:': ' Kindle Edition'}  sandra sue marsolek   \n",
       "1  {'Format:': ' Kindle Edition'}                  Tpl   \n",
       "2  {'Format:': ' Kindle Edition'}  Alverne F. Anderson   \n",
       "3  {'Format:': ' Kindle Edition'}                 Jeff   \n",
       "4  {'Format:': ' Kindle Edition'}    DEHS - EddyRapcon   \n",
       "\n",
       "                                          reviewText            summary  \\\n",
       "0  pretty good story, a little exaggerated, but I...  pretty good story   \n",
       "1  If you've read other max brand westerns, you k...   A very good book   \n",
       "2                       Love Max, always a fun twist         Five Stars   \n",
       "3                      As usual for him, a good book             a good   \n",
       "4  MB is one of the original western writers and ...          A Western   \n",
       "\n",
       "   unixReviewTime vote image  \n",
       "0      1404345600  NaN   NaN  \n",
       "1      1401062400  NaN   NaN  \n",
       "2      1473984000  NaN   NaN  \n",
       "3      1456963200  NaN   NaN  \n",
       "4      1441843200    2   NaN  "
      ]
     },
     "execution_count": 181,
     "metadata": {},
     "output_type": "execute_result"
    }
   ],
   "source": [
    "df.head() #first look to df"
   ]
  },
  {
   "cell_type": "code",
   "execution_count": 182,
   "metadata": {},
   "outputs": [],
   "source": [
    "# merging the metadata title column to main dataset\n",
    "df = pd.merge(df,df_meta[['title','asin']],on=['asin'], how='left') "
   ]
  },
  {
   "cell_type": "code",
   "execution_count": 184,
   "metadata": {},
   "outputs": [
    {
     "data": {
      "text/plain": [
       "(2222983, 13)"
      ]
     },
     "execution_count": 184,
     "metadata": {},
     "output_type": "execute_result"
    }
   ],
   "source": [
    "df.shape #to see the number of columns and rows"
   ]
  },
  {
   "cell_type": "code",
   "execution_count": 185,
   "metadata": {
    "scrolled": true
   },
   "outputs": [
    {
     "data": {
      "text/plain": [
       "overall                 0\n",
       "verified                0\n",
       "reviewTime              0\n",
       "reviewerID              0\n",
       "asin                    0\n",
       "style               52617\n",
       "reviewerName          142\n",
       "reviewText            410\n",
       "summary              1757\n",
       "unixReviewTime          0\n",
       "vote              1931032\n",
       "image             2221618\n",
       "title               20669\n",
       "dtype: int64"
      ]
     },
     "execution_count": 185,
     "metadata": {},
     "output_type": "execute_result"
    }
   ],
   "source": [
    "df.isna().sum() #to see null values"
   ]
  },
  {
   "cell_type": "markdown",
   "metadata": {},
   "source": [
    "Most important columns for my project are overall and reviewText. So I have to drop the nulls for these two columns."
   ]
  },
  {
   "cell_type": "code",
   "execution_count": 186,
   "metadata": {},
   "outputs": [],
   "source": [
    "df.dropna(subset=['reviewText'], inplace=True) #droping null's in reviews"
   ]
  },
  {
   "cell_type": "code",
   "execution_count": 187,
   "metadata": {},
   "outputs": [
    {
     "data": {
      "text/plain": [
       "overall                 0\n",
       "verified                0\n",
       "reviewTime              0\n",
       "reviewerID              0\n",
       "asin                    0\n",
       "style               52600\n",
       "reviewerName          142\n",
       "reviewText              0\n",
       "summary              1735\n",
       "unixReviewTime          0\n",
       "vote              1930627\n",
       "image             2221213\n",
       "title               20658\n",
       "dtype: int64"
      ]
     },
     "execution_count": 187,
     "metadata": {},
     "output_type": "execute_result"
    }
   ],
   "source": [
    "df.isna().sum() # to check"
   ]
  },
  {
   "cell_type": "markdown",
   "metadata": {},
   "source": [
    "# Deeper Look to Columns"
   ]
  },
  {
   "cell_type": "markdown",
   "metadata": {},
   "source": [
    "To decide cleaning and preparing process, I will look deeper to columns."
   ]
  },
  {
   "cell_type": "code",
   "execution_count": 188,
   "metadata": {},
   "outputs": [
    {
     "name": "stdout",
     "output_type": "stream",
     "text": [
      "<class 'pandas.core.frame.DataFrame'>\n",
      "Int64Index: 2222573 entries, 0 to 2222982\n",
      "Data columns (total 13 columns):\n",
      "overall           2222573 non-null float64\n",
      "verified          2222573 non-null bool\n",
      "reviewTime        2222573 non-null object\n",
      "reviewerID        2222573 non-null object\n",
      "asin              2222573 non-null object\n",
      "style             2169973 non-null object\n",
      "reviewerName      2222431 non-null object\n",
      "reviewText        2222573 non-null object\n",
      "summary           2220838 non-null object\n",
      "unixReviewTime    2222573 non-null int64\n",
      "vote              291946 non-null object\n",
      "image             1360 non-null object\n",
      "title             2201915 non-null object\n",
      "dtypes: bool(1), float64(1), int64(1), object(10)\n",
      "memory usage: 222.6+ MB\n"
     ]
    }
   ],
   "source": [
    "df.info(verbose=True, null_counts=True) #to see the type of columns"
   ]
  },
  {
   "cell_type": "code",
   "execution_count": 10,
   "metadata": {
    "scrolled": true
   },
   "outputs": [
    {
     "data": {
      "text/plain": [
       "5.0    1353344\n",
       "4.0     556256\n",
       "3.0     197919\n",
       "2.0      66888\n",
       "1.0      48166\n",
       "Name: overall, dtype: int64"
      ]
     },
     "execution_count": 10,
     "metadata": {},
     "output_type": "execute_result"
    }
   ],
   "source": [
    "df['overall'].value_counts() "
   ]
  },
  {
   "cell_type": "code",
   "execution_count": 205,
   "metadata": {},
   "outputs": [
    {
     "data": {
      "image/png": "[encoded data removed]",
      "text/plain": [
       "<Figure size 720x576 with 1 Axes>"
      ]
     },
     "metadata": {
      "needs_background": "light"
     },
     "output_type": "display_data"
    }
   ],
   "source": [
    "plt.figure(figsize=(10,8))\n",
    "ax = sns.countplot(x='overall', data=df)"
   ]
  },
  {
   "cell_type": "markdown",
   "metadata": {},
   "source": [
    "Mostly ratings in dataset consist of good reviews such as 4 and 5. It is seen that our target is imbalanced."
   ]
  },
  {
   "cell_type": "code",
   "execution_count": 11,
   "metadata": {
    "scrolled": false
   },
   "outputs": [
    {
     "data": {
      "text/plain": [
       "True     1417690\n",
       "False     804883\n",
       "Name: verified, dtype: int64"
      ]
     },
     "execution_count": 11,
     "metadata": {},
     "output_type": "execute_result"
    }
   ],
   "source": [
    "df['verified'].value_counts()"
   ]
  },
  {
   "cell_type": "code",
   "execution_count": 207,
   "metadata": {},
   "outputs": [
    {
     "data": {
      "image/png": "[encoded data removed]",
      "text/plain": [
       "<Figure size 720x576 with 1 Axes>"
      ]
     },
     "metadata": {
      "needs_background": "light"
     },
     "output_type": "display_data"
    }
   ],
   "source": [
    "plt.figure(figsize=(10,8))\n",
    "ax = sns.countplot(x='verified', data=df)"
   ]
  },
  {
   "cell_type": "markdown",
   "metadata": {},
   "source": [
    "Nearly, 64% of reviews are verified by Amazon in our data."
   ]
  },
  {
   "cell_type": "code",
   "execution_count": 206,
   "metadata": {},
   "outputs": [
    {
     "data": {
      "image/png": "[encoded data removed]",
      "text/plain": [
       "<Figure size 720x576 with 1 Axes>"
      ]
     },
     "metadata": {
      "needs_background": "light"
     },
     "output_type": "display_data"
    }
   ],
   "source": [
    "plt.figure(figsize=(10,8))\n",
    "ax = sns.countplot(x='verified', hue=\"overall\", data=df)"
   ]
  },
  {
   "cell_type": "markdown",
   "metadata": {},
   "source": [
    "The distribution of ratings are nearly same in verified and non-verified reviews."
   ]
  },
  {
   "cell_type": "code",
   "execution_count": 194,
   "metadata": {
    "scrolled": true
   },
   "outputs": [
    {
     "data": {
      "text/plain": [
       "4838"
      ]
     },
     "execution_count": 194,
     "metadata": {},
     "output_type": "execute_result"
    }
   ],
   "source": [
    "df['reviewTime'].nunique()"
   ]
  },
  {
   "cell_type": "markdown",
   "metadata": {},
   "source": [
    "Review time is daily-based in our data. So, it means that data is collected from 4828 different days."
   ]
  },
  {
   "cell_type": "markdown",
   "metadata": {},
   "source": [
    "### Converting Data from String to Datetime to Divide Day, Month and Years"
   ]
  },
  {
   "cell_type": "code",
   "execution_count": 198,
   "metadata": {},
   "outputs": [],
   "source": [
    "df[\"reviewTime\"] = pd.to_datetime(df[\"reviewTime\"]) # convert to datetime"
   ]
  },
  {
   "cell_type": "code",
   "execution_count": 199,
   "metadata": {},
   "outputs": [],
   "source": [
    "# to convert reviewTime column to day, month and year\n",
    "df['day'] =df['reviewTime'].dt.day\n",
    "df['month'] =df['reviewTime'].dt.month \n",
    "df['year'] =df['reviewTime'].dt.year"
   ]
  },
  {
   "cell_type": "markdown",
   "metadata": {},
   "source": [
    "### Looking to Years"
   ]
  },
  {
   "cell_type": "code",
   "execution_count": 19,
   "metadata": {},
   "outputs": [
    {
     "data": {
      "text/plain": [
       "2015    615680\n",
       "2016    524890\n",
       "2014    486926\n",
       "2013    247913\n",
       "2017    185370\n",
       "2018     75655\n",
       "2012     63467\n",
       "2011     16685\n",
       "2010      2583\n",
       "2009       914\n",
       "2008       857\n",
       "2007       410\n",
       "2005       283\n",
       "2006       281\n",
       "2004       178\n",
       "2003       160\n",
       "2002       113\n",
       "2001        97\n",
       "2000        94\n",
       "1999        14\n",
       "1998         2\n",
       "1997         1\n",
       "Name: year, dtype: int64"
      ]
     },
     "execution_count": 19,
     "metadata": {},
     "output_type": "execute_result"
    }
   ],
   "source": [
    "df['year'].value_counts()"
   ]
  },
  {
   "cell_type": "code",
   "execution_count": 208,
   "metadata": {},
   "outputs": [
    {
     "data": {
      "image/png": "[encoded data removed]",
      "text/plain": [
       "<Figure size 2160x720 with 1 Axes>"
      ]
     },
     "metadata": {
      "needs_background": "light"
     },
     "output_type": "display_data"
    }
   ],
   "source": [
    "plt.figure(figsize=(30,10))\n",
    "ax = sns.countplot(x='year', data=df)"
   ]
  },
  {
   "cell_type": "markdown",
   "metadata": {},
   "source": [
    "Our data is consists of 21 years. From the graph, it is obviously seen that mostly data is obtained from recent years. It helps us to build more accurate model for future."
   ]
  },
  {
   "cell_type": "code",
   "execution_count": 209,
   "metadata": {},
   "outputs": [
    {
     "data": {
      "image/png": "[encoded data removed]",
      "text/plain": [
       "<Figure size 2160x720 with 1 Axes>"
      ]
     },
     "metadata": {
      "needs_background": "light"
     },
     "output_type": "display_data"
    }
   ],
   "source": [
    "plt.figure(figsize=(30,10))\n",
    "ax = sns.countplot(x='year', hue='overall', data=df)"
   ]
  },
  {
   "cell_type": "markdown",
   "metadata": {},
   "source": [
    "Some years have higher good ratings."
   ]
  },
  {
   "cell_type": "markdown",
   "metadata": {},
   "source": [
    "### Looking to Months"
   ]
  },
  {
   "cell_type": "code",
   "execution_count": 21,
   "metadata": {
    "scrolled": true
   },
   "outputs": [
    {
     "data": {
      "text/plain": [
       "3     205772\n",
       "1     200076\n",
       "5     197691\n",
       "4     193928\n",
       "6     192535\n",
       "7     183858\n",
       "8     180840\n",
       "2     180755\n",
       "12    174977\n",
       "11    171548\n",
       "10    171075\n",
       "9     169518\n",
       "Name: month, dtype: int64"
      ]
     },
     "execution_count": 21,
     "metadata": {},
     "output_type": "execute_result"
    }
   ],
   "source": [
    "df['month'].value_counts()"
   ]
  },
  {
   "cell_type": "code",
   "execution_count": 210,
   "metadata": {},
   "outputs": [
    {
     "data": {
      "image/png": "[encoded data removed]",
      "text/plain": [
       "<Figure size 2160x720 with 1 Axes>"
      ]
     },
     "metadata": {
      "needs_background": "light"
     },
     "output_type": "display_data"
    }
   ],
   "source": [
    "plt.figure(figsize=(30,10))\n",
    "ax = sns.countplot(x='month',data=df)"
   ]
  },
  {
   "cell_type": "markdown",
   "metadata": {},
   "source": [
    "Mainly, we have similar rating number for each month in our data."
   ]
  },
  {
   "cell_type": "code",
   "execution_count": 33,
   "metadata": {},
   "outputs": [
    {
     "data": {
      "text/plain": [
       "month\n",
       "1     4.394415\n",
       "2     4.397682\n",
       "3     4.405575\n",
       "4     4.397560\n",
       "5     4.400195\n",
       "6     4.396328\n",
       "7     4.382431\n",
       "8     4.378887\n",
       "9     4.385304\n",
       "10    4.398439\n",
       "11    4.406213\n",
       "12    4.390817\n",
       "Name: overall, dtype: float64"
      ]
     },
     "execution_count": 33,
     "metadata": {},
     "output_type": "execute_result"
    }
   ],
   "source": [
    "df.groupby('month')['overall'].mean()"
   ]
  },
  {
   "cell_type": "markdown",
   "metadata": {},
   "source": [
    "Each month has similar rating average."
   ]
  },
  {
   "cell_type": "code",
   "execution_count": 26,
   "metadata": {},
   "outputs": [
    {
     "data": {
      "image/png": "[encoded data removed]",
      "text/plain": [
       "<Figure size 2160x720 with 1 Axes>"
      ]
     },
     "metadata": {
      "needs_background": "light"
     },
     "output_type": "display_data"
    }
   ],
   "source": [
    "plt.figure(figsize=(30,10))\n",
    "ax = sns.countplot(x='month', hue=\"overall\", data=df)"
   ]
  },
  {
   "cell_type": "markdown",
   "metadata": {},
   "source": [
    "Each month has similar rating distribution."
   ]
  },
  {
   "cell_type": "markdown",
   "metadata": {},
   "source": [
    "# Looking to Days"
   ]
  },
  {
   "cell_type": "code",
   "execution_count": 212,
   "metadata": {
    "scrolled": true
   },
   "outputs": [
    {
     "data": {
      "image/png": "[encoded data removed]",
      "text/plain": [
       "<Figure size 2160x720 with 1 Axes>"
      ]
     },
     "metadata": {
      "needs_background": "light"
     },
     "output_type": "display_data"
    }
   ],
   "source": [
    "plt.figure(figsize=(30,10))\n",
    "ax = sns.countplot(x='day',data=df)"
   ]
  },
  {
   "cell_type": "code",
   "execution_count": 28,
   "metadata": {},
   "outputs": [
    {
     "data": {
      "image/png": "[encoded data removed]",
      "text/plain": [
       "<Figure size 2160x720 with 1 Axes>"
      ]
     },
     "metadata": {
      "needs_background": "light"
     },
     "output_type": "display_data"
    }
   ],
   "source": [
    "plt.figure(figsize=(30,10))\n",
    "ax = sns.countplot(x='day', hue=\"overall\", data=df)"
   ]
  },
  {
   "cell_type": "markdown",
   "metadata": {},
   "source": [
    "According to plots above, our data distribution is nearly same for each day, except 31st. Because, every month do not have 31th day. This is also a good indicator for reliability for our data."
   ]
  },
  {
   "cell_type": "markdown",
   "metadata": {},
   "source": [
    "### Looking to Reviewers"
   ]
  },
  {
   "cell_type": "code",
   "execution_count": 213,
   "metadata": {},
   "outputs": [
    {
     "data": {
      "text/plain": [
       "139815"
      ]
     },
     "execution_count": 213,
     "metadata": {},
     "output_type": "execute_result"
    }
   ],
   "source": [
    "df['reviewerID'].nunique()"
   ]
  },
  {
   "cell_type": "markdown",
   "metadata": {},
   "source": [
    "There are 139815 different ID for reviews in this data."
   ]
  },
  {
   "cell_type": "code",
   "execution_count": 35,
   "metadata": {},
   "outputs": [
    {
     "data": {
      "text/plain": [
       "102635"
      ]
     },
     "execution_count": 35,
     "metadata": {},
     "output_type": "execute_result"
    }
   ],
   "source": [
    "df['reviewerName'].nunique()"
   ]
  },
  {
   "cell_type": "markdown",
   "metadata": {},
   "source": [
    "Normally, reviewer ID must be same reviewer name but name is less than ID. It means that some people use same names with each other. So, reviewer ID column contains more information than name column. So, I will drop this column. "
   ]
  },
  {
   "cell_type": "code",
   "execution_count": 215,
   "metadata": {},
   "outputs": [],
   "source": [
    "df.drop(columns=['reviewerName'],inplace=True) #droping reviewername column"
   ]
  },
  {
   "cell_type": "markdown",
   "metadata": {},
   "source": [
    "### Looking to Reviewers According to Ratings and Rated Books"
   ]
  },
  {
   "cell_type": "code",
   "execution_count": 66,
   "metadata": {
    "scrolled": true
   },
   "outputs": [
    {
     "data": {
      "text/plain": [
       "reviewerID\n",
       "A3ES0P8SR1RZ4N    5.0\n",
       "A35X41LLPO5ABN    5.0\n",
       "A35X23NWD55TPK    5.0\n",
       "A35X22F6XM7TQ9    5.0\n",
       "A35X0P9G1SRYD     5.0\n",
       "                 ... \n",
       "A35U8NE1FV9FKH    5.0\n",
       "A35TXH5HL73IOM    5.0\n",
       "A35TVBOBQ1TSP7    5.0\n",
       "A35TUXRBAV2P1S    5.0\n",
       "A35TSS9WZ10RIV    5.0\n",
       "Name: overall, Length: 100, dtype: float64"
      ]
     },
     "execution_count": 66,
     "metadata": {},
     "output_type": "execute_result"
    }
   ],
   "source": [
    "df.groupby('reviewerID')['overall'].mean().sort_values(ascending=False).head(100)"
   ]
  },
  {
   "cell_type": "markdown",
   "metadata": {},
   "source": [
    "Top 100 head rating averages are 5. But, it does not give good idea to us. Because maybe they just rated 5 books as 5. But, there are many user which rated more than 500 books."
   ]
  },
  {
   "cell_type": "code",
   "execution_count": 70,
   "metadata": {},
   "outputs": [
    {
     "data": {
      "text/plain": [
       "reviewerID\n",
       "A1JLU5H1CCENWX    1377\n",
       "A328S9RN3U5M68    1234\n",
       "A13QTZ8CIMHHG4    1011\n",
       "A3GWE80SUGORJD    1007\n",
       "A2YJ8VP1SSHJ7      931\n",
       "                  ... \n",
       "A3Q9ZYNO1MXQDW     432\n",
       "A2S5EPJ451WL3I     431\n",
       "A2UQGX6YMQ5BAL     427\n",
       "AW7JJRAMYZY1X      425\n",
       "A1QDU32SAI8LO2     425\n",
       "Name: asin, Length: 100, dtype: int64"
      ]
     },
     "execution_count": 70,
     "metadata": {},
     "output_type": "execute_result"
    }
   ],
   "source": [
    "df.groupby('reviewerID')['asin'].count().sort_values(ascending=False).head(100)"
   ]
  },
  {
   "cell_type": "markdown",
   "metadata": {},
   "source": [
    "Each user, who is in the top 100 according to rate count, have more than 400 reviews. 'asin' shows the book ID's. So, we can count books according to 'asin' column."
   ]
  },
  {
   "cell_type": "markdown",
   "metadata": {},
   "source": [
    "### Looking to Top 3 User According to Review Number"
   ]
  },
  {
   "cell_type": "code",
   "execution_count": 82,
   "metadata": {},
   "outputs": [
    {
     "data": {
      "text/plain": [
       "overall\n",
       "3.0       7\n",
       "4.0      75\n",
       "5.0    1295\n",
       "Name: asin, dtype: int64"
      ]
     },
     "execution_count": 82,
     "metadata": {},
     "output_type": "execute_result"
    }
   ],
   "source": [
    "df.loc[df['reviewerID']=='A1JLU5H1CCENWX'].groupby('overall')['asin'].count()"
   ]
  },
  {
   "cell_type": "code",
   "execution_count": 79,
   "metadata": {},
   "outputs": [
    {
     "data": {
      "text/plain": [
       "overall\n",
       "3.0     13\n",
       "4.0    248\n",
       "5.0    973\n",
       "Name: asin, dtype: int64"
      ]
     },
     "execution_count": 79,
     "metadata": {},
     "output_type": "execute_result"
    }
   ],
   "source": [
    "df.loc[df['reviewerID']=='A328S9RN3U5M68'].groupby('overall')['asin'].count()"
   ]
  },
  {
   "cell_type": "code",
   "execution_count": 81,
   "metadata": {},
   "outputs": [
    {
     "data": {
      "text/plain": [
       "overall\n",
       "2.0      9\n",
       "3.0    282\n",
       "4.0    490\n",
       "5.0    230\n",
       "Name: asin, dtype: int64"
      ]
     },
     "execution_count": 81,
     "metadata": {},
     "output_type": "execute_result"
    }
   ],
   "source": [
    "df.loc[df['reviewerID']=='A13QTZ8CIMHHG4'].groupby('overall')['asin'].count()"
   ]
  },
  {
   "cell_type": "markdown",
   "metadata": {},
   "source": [
    "Although, top 2 user only have 3,4 and 5 rating, 3rd one has 2 also."
   ]
  },
  {
   "cell_type": "markdown",
   "metadata": {},
   "source": [
    "### Looking to Books"
   ]
  },
  {
   "cell_type": "code",
   "execution_count": 83,
   "metadata": {
    "scrolled": true
   },
   "outputs": [
    {
     "data": {
      "text/plain": [
       "98824"
      ]
     },
     "execution_count": 83,
     "metadata": {},
     "output_type": "execute_result"
    }
   ],
   "source": [
    "df['asin'].nunique() #showing number of books in data"
   ]
  },
  {
   "cell_type": "markdown",
   "metadata": {},
   "source": [
    "We will look at the books according to number of reviews. Because only rating does not give reliably results such as 5 average rating book with 5 reviews vs. 4.8 average rating book with 1000 reviews."
   ]
  },
  {
   "cell_type": "markdown",
   "metadata": {},
   "source": [
    "# 8 Reviews with 5.0 Average Rating vs 2217 Reviews with 4.3 Average Rating "
   ]
  },
  {
   "cell_type": "code",
   "execution_count": 309,
   "metadata": {},
   "outputs": [
    {
     "data": {
      "text/plain": [
       "asin\n",
       "B0176NQRQE    5.0\n",
       "B013BH2N0I    5.0\n",
       "B00JM2H3CA    5.0\n",
       "B00JLJ0FZ6    5.0\n",
       "B00JL2OACM    5.0\n",
       "B00JKT2Y10    5.0\n",
       "B00JKT2RA8    5.0\n",
       "B00JKPOKHK    5.0\n",
       "B00JKO0HSM    5.0\n",
       "B00JKO0F5W    5.0\n",
       "Name: overall, dtype: float64"
      ]
     },
     "execution_count": 309,
     "metadata": {},
     "output_type": "execute_result"
    }
   ],
   "source": [
    "df.groupby('asin')['overall'].mean().sort_values(ascending=False).head(10)"
   ]
  },
  {
   "cell_type": "code",
   "execution_count": 223,
   "metadata": {
    "scrolled": false
   },
   "outputs": [
    {
     "data": {
      "text/plain": [
       "B00YN6XHMU    2217\n",
       "B00C2WDD5I    1461\n",
       "B00ESJ3S94    1327\n",
       "B015BIHKH6    1249\n",
       "B00IJYII4E     808\n",
       "B00EV9LSJI     772\n",
       "B00ABLJ5X6     762\n",
       "B0142IHZPI     761\n",
       "B00WGXCP1G     744\n",
       "B004KKY782     720\n",
       "Name: asin, dtype: int64"
      ]
     },
     "execution_count": 223,
     "metadata": {},
     "output_type": "execute_result"
    }
   ],
   "source": [
    "df['asin'].value_counts().head(10)"
   ]
  },
  {
   "cell_type": "code",
   "execution_count": 311,
   "metadata": {
    "scrolled": true
   },
   "outputs": [
    {
     "data": {
      "text/html": [
       "<div>\n",
       "<style scoped>\n",
       "    .dataframe tbody tr th:only-of-type {\n",
       "        vertical-align: middle;\n",
       "    }\n",
       "\n",
       "    .dataframe tbody tr th {\n",
       "        vertical-align: top;\n",
       "    }\n",
       "\n",
       "    .dataframe thead th {\n",
       "        text-align: right;\n",
       "    }\n",
       "</style>\n",
       "<table border=\"1\" class=\"dataframe\">\n",
       "  <thead>\n",
       "    <tr style=\"text-align: right;\">\n",
       "      <th></th>\n",
       "      <th>verified</th>\n",
       "      <th>reviewTime</th>\n",
       "      <th>reviewerID</th>\n",
       "      <th>asin</th>\n",
       "      <th>style</th>\n",
       "      <th>reviewText</th>\n",
       "      <th>summary</th>\n",
       "      <th>unixReviewTime</th>\n",
       "      <th>vote</th>\n",
       "      <th>image</th>\n",
       "      <th>title</th>\n",
       "      <th>day</th>\n",
       "      <th>month</th>\n",
       "      <th>year</th>\n",
       "    </tr>\n",
       "    <tr>\n",
       "      <th>overall</th>\n",
       "      <th></th>\n",
       "      <th></th>\n",
       "      <th></th>\n",
       "      <th></th>\n",
       "      <th></th>\n",
       "      <th></th>\n",
       "      <th></th>\n",
       "      <th></th>\n",
       "      <th></th>\n",
       "      <th></th>\n",
       "      <th></th>\n",
       "      <th></th>\n",
       "      <th></th>\n",
       "      <th></th>\n",
       "    </tr>\n",
       "  </thead>\n",
       "  <tbody>\n",
       "    <tr>\n",
       "      <td>5.0</td>\n",
       "      <td>8</td>\n",
       "      <td>8</td>\n",
       "      <td>8</td>\n",
       "      <td>8</td>\n",
       "      <td>8</td>\n",
       "      <td>8</td>\n",
       "      <td>8</td>\n",
       "      <td>8</td>\n",
       "      <td>1</td>\n",
       "      <td>0</td>\n",
       "      <td>8</td>\n",
       "      <td>8</td>\n",
       "      <td>8</td>\n",
       "      <td>8</td>\n",
       "    </tr>\n",
       "  </tbody>\n",
       "</table>\n",
       "</div>"
      ],
      "text/plain": [
       "         verified  reviewTime  reviewerID  asin  style  reviewText  summary  \\\n",
       "overall                                                                       \n",
       "5.0             8           8           8     8      8           8        8   \n",
       "\n",
       "         unixReviewTime  vote  image  title  day  month  year  \n",
       "overall                                                        \n",
       "5.0                   8     1      0      8    8      8     8  "
      ]
     },
     "execution_count": 311,
     "metadata": {},
     "output_type": "execute_result"
    }
   ],
   "source": [
    "df.loc[df['asin']=='B0176NQRQE'].groupby('overall').count() # according to review avg."
   ]
  },
  {
   "cell_type": "markdown",
   "metadata": {},
   "source": [
    "Only 8 reviews but all is 5.0."
   ]
  },
  {
   "cell_type": "code",
   "execution_count": 312,
   "metadata": {
    "scrolled": true
   },
   "outputs": [
    {
     "data": {
      "text/html": [
       "<div>\n",
       "<style scoped>\n",
       "    .dataframe tbody tr th:only-of-type {\n",
       "        vertical-align: middle;\n",
       "    }\n",
       "\n",
       "    .dataframe tbody tr th {\n",
       "        vertical-align: top;\n",
       "    }\n",
       "\n",
       "    .dataframe thead th {\n",
       "        text-align: right;\n",
       "    }\n",
       "</style>\n",
       "<table border=\"1\" class=\"dataframe\">\n",
       "  <thead>\n",
       "    <tr style=\"text-align: right;\">\n",
       "      <th></th>\n",
       "      <th>verified</th>\n",
       "      <th>reviewTime</th>\n",
       "      <th>reviewerID</th>\n",
       "      <th>asin</th>\n",
       "      <th>style</th>\n",
       "      <th>reviewText</th>\n",
       "      <th>summary</th>\n",
       "      <th>unixReviewTime</th>\n",
       "      <th>vote</th>\n",
       "      <th>image</th>\n",
       "      <th>title</th>\n",
       "      <th>day</th>\n",
       "      <th>month</th>\n",
       "      <th>year</th>\n",
       "    </tr>\n",
       "    <tr>\n",
       "      <th>overall</th>\n",
       "      <th></th>\n",
       "      <th></th>\n",
       "      <th></th>\n",
       "      <th></th>\n",
       "      <th></th>\n",
       "      <th></th>\n",
       "      <th></th>\n",
       "      <th></th>\n",
       "      <th></th>\n",
       "      <th></th>\n",
       "      <th></th>\n",
       "      <th></th>\n",
       "      <th></th>\n",
       "      <th></th>\n",
       "    </tr>\n",
       "  </thead>\n",
       "  <tbody>\n",
       "    <tr>\n",
       "      <td>1.0</td>\n",
       "      <td>94</td>\n",
       "      <td>94</td>\n",
       "      <td>94</td>\n",
       "      <td>94</td>\n",
       "      <td>94</td>\n",
       "      <td>94</td>\n",
       "      <td>94</td>\n",
       "      <td>94</td>\n",
       "      <td>44</td>\n",
       "      <td>0</td>\n",
       "      <td>94</td>\n",
       "      <td>94</td>\n",
       "      <td>94</td>\n",
       "      <td>94</td>\n",
       "    </tr>\n",
       "    <tr>\n",
       "      <td>2.0</td>\n",
       "      <td>97</td>\n",
       "      <td>97</td>\n",
       "      <td>97</td>\n",
       "      <td>97</td>\n",
       "      <td>97</td>\n",
       "      <td>97</td>\n",
       "      <td>97</td>\n",
       "      <td>97</td>\n",
       "      <td>16</td>\n",
       "      <td>0</td>\n",
       "      <td>97</td>\n",
       "      <td>97</td>\n",
       "      <td>97</td>\n",
       "      <td>97</td>\n",
       "    </tr>\n",
       "    <tr>\n",
       "      <td>3.0</td>\n",
       "      <td>222</td>\n",
       "      <td>222</td>\n",
       "      <td>222</td>\n",
       "      <td>222</td>\n",
       "      <td>222</td>\n",
       "      <td>222</td>\n",
       "      <td>222</td>\n",
       "      <td>222</td>\n",
       "      <td>23</td>\n",
       "      <td>0</td>\n",
       "      <td>222</td>\n",
       "      <td>222</td>\n",
       "      <td>222</td>\n",
       "      <td>222</td>\n",
       "    </tr>\n",
       "    <tr>\n",
       "      <td>4.0</td>\n",
       "      <td>355</td>\n",
       "      <td>355</td>\n",
       "      <td>355</td>\n",
       "      <td>355</td>\n",
       "      <td>355</td>\n",
       "      <td>355</td>\n",
       "      <td>354</td>\n",
       "      <td>355</td>\n",
       "      <td>24</td>\n",
       "      <td>0</td>\n",
       "      <td>355</td>\n",
       "      <td>355</td>\n",
       "      <td>355</td>\n",
       "      <td>355</td>\n",
       "    </tr>\n",
       "    <tr>\n",
       "      <td>5.0</td>\n",
       "      <td>1449</td>\n",
       "      <td>1449</td>\n",
       "      <td>1449</td>\n",
       "      <td>1449</td>\n",
       "      <td>1448</td>\n",
       "      <td>1449</td>\n",
       "      <td>1448</td>\n",
       "      <td>1449</td>\n",
       "      <td>158</td>\n",
       "      <td>5</td>\n",
       "      <td>1449</td>\n",
       "      <td>1449</td>\n",
       "      <td>1449</td>\n",
       "      <td>1449</td>\n",
       "    </tr>\n",
       "  </tbody>\n",
       "</table>\n",
       "</div>"
      ],
      "text/plain": [
       "         verified  reviewTime  reviewerID  asin  style  reviewText  summary  \\\n",
       "overall                                                                       \n",
       "1.0            94          94          94    94     94          94       94   \n",
       "2.0            97          97          97    97     97          97       97   \n",
       "3.0           222         222         222   222    222         222      222   \n",
       "4.0           355         355         355   355    355         355      354   \n",
       "5.0          1449        1449        1449  1449   1448        1449     1448   \n",
       "\n",
       "         unixReviewTime  vote  image  title   day  month  year  \n",
       "overall                                                         \n",
       "1.0                  94    44      0     94    94     94    94  \n",
       "2.0                  97    16      0     97    97     97    97  \n",
       "3.0                 222    23      0    222   222    222   222  \n",
       "4.0                 355    24      0    355   355    355   355  \n",
       "5.0                1449   158      5   1449  1449   1449  1449  "
      ]
     },
     "execution_count": 312,
     "metadata": {},
     "output_type": "execute_result"
    }
   ],
   "source": [
    "df.loc[df['asin']=='B00YN6XHMU'].groupby('overall').count() # according to review number"
   ]
  },
  {
   "cell_type": "markdown",
   "metadata": {},
   "source": [
    "Total 2217 reviews but 8.7% rated as 1 and 2."
   ]
  },
  {
   "cell_type": "markdown",
   "metadata": {},
   "source": [
    "When we compare our two results, sorting books according to review numbers is shown more reliable than looking to the average of ratings. So, we will analyze and compare mostly reviewed books.  "
   ]
  },
  {
   "cell_type": "markdown",
   "metadata": {},
   "source": [
    "## Top 10 Highly Reviewed Books"
   ]
  },
  {
   "cell_type": "code",
   "execution_count": 238,
   "metadata": {
    "scrolled": false
   },
   "outputs": [
    {
     "data": {
      "text/html": [
       "<div>\n",
       "<style scoped>\n",
       "    .dataframe tbody tr th:only-of-type {\n",
       "        vertical-align: middle;\n",
       "    }\n",
       "\n",
       "    .dataframe tbody tr th {\n",
       "        vertical-align: top;\n",
       "    }\n",
       "\n",
       "    .dataframe thead th {\n",
       "        text-align: right;\n",
       "    }\n",
       "</style>\n",
       "<table border=\"1\" class=\"dataframe\">\n",
       "  <thead>\n",
       "    <tr style=\"text-align: right;\">\n",
       "      <th></th>\n",
       "      <th>overall</th>\n",
       "      <th>verified</th>\n",
       "      <th>unixReviewTime</th>\n",
       "      <th>day</th>\n",
       "      <th>month</th>\n",
       "      <th>year</th>\n",
       "    </tr>\n",
       "    <tr>\n",
       "      <th>title</th>\n",
       "      <th></th>\n",
       "      <th></th>\n",
       "      <th></th>\n",
       "      <th></th>\n",
       "      <th></th>\n",
       "      <th></th>\n",
       "    </tr>\n",
       "  </thead>\n",
       "  <tbody>\n",
       "    <tr>\n",
       "      <td>Grey: Fifty Shades of Grey as told</td>\n",
       "      <td>4.338746</td>\n",
       "      <td>0.878214</td>\n",
       "      <td>1.443439e+09</td>\n",
       "      <td>17.377988</td>\n",
       "      <td>6.85115</td>\n",
       "      <td>2015.211096</td>\n",
       "    </tr>\n",
       "  </tbody>\n",
       "</table>\n",
       "</div>"
      ],
      "text/plain": [
       "                                     overall  verified  unixReviewTime  \\\n",
       "title                                                                    \n",
       "Grey: Fifty Shades of Grey as told  4.338746  0.878214    1.443439e+09   \n",
       "\n",
       "                                          day    month         year  \n",
       "title                                                                \n",
       "Grey: Fifty Shades of Grey as told  17.377988  6.85115  2015.211096  "
      ]
     },
     "execution_count": 238,
     "metadata": {},
     "output_type": "execute_result"
    }
   ],
   "source": [
    "df.loc[df['asin']=='B00YN6XHMU'].groupby('title').mean() # run this for 10 different asin values"
   ]
  },
  {
   "cell_type": "markdown",
   "metadata": {},
   "source": [
    "I run the code for 10 different books and wrote values in dataframe."
   ]
  },
  {
   "cell_type": "code",
   "execution_count": 303,
   "metadata": {},
   "outputs": [],
   "source": [
    "df_books = pd.DataFrame(columns=[\"Book\", \"Rating #\",'Rating Avg.']) # result df for showing books together"
   ]
  },
  {
   "cell_type": "code",
   "execution_count": 304,
   "metadata": {},
   "outputs": [],
   "source": [
    "# writing findings to df\n",
    "df_books = df_books.append({     \n",
    "     \"Book\": 'Fifty Shades of Grey' ,\n",
    "      \"Rating #\": 2217 , \n",
    "       'Rating Avg.' : 4.34}, ignore_index=True)\n",
    "df_books = df_books.append({     \n",
    "     \"Book\": 'The Atlantis Gene:(Book 1)' ,\n",
    "      \"Rating #\": 1461 , \n",
    "       'Rating Avg.' : 4.14}, ignore_index=True)\n",
    "df_books = df_books.append({     \n",
    "     \"Book\": 'Fueled (Book 2)' ,\n",
    "      \"Rating #\": 1327 , \n",
    "       'Rating Avg.' : 4.83}, ignore_index=True)\n",
    "df_books = df_books.append({     \n",
    "     \"Book\": 'Sense And Sensibility' ,\n",
    "      \"Rating #\": 1249 , \n",
    "       'Rating Avg.' : 4.35}, ignore_index=True)\n",
    "df_books = df_books.append({     \n",
    "     \"Book\": 'The Girl in the Box, Books 1-3' ,\n",
    "      \"Rating #\": 808 , \n",
    "       'Rating Avg.' : 4.40}, ignore_index=True)"
   ]
  },
  {
   "cell_type": "code",
   "execution_count": 305,
   "metadata": {},
   "outputs": [],
   "source": [
    "df_books = df_books.append({     \n",
    "     \"Book\": 'Tears of Tess (Book 1)' ,\n",
    "      \"Rating #\": 772 , \n",
    "       'Rating Avg.' : 4.57}, ignore_index=True)\n",
    "df_books = df_books.append({     \n",
    "     \"Book\": 'Takedown Twenty' ,\n",
    "      \"Rating #\": 762 , \n",
    "       'Rating Avg.' : 4.17}, ignore_index=True)\n",
    "df_books = df_books.append({     \n",
    "     \"Book\": \"When I'm Gone\" ,\n",
    "      \"Rating #\": 761 , \n",
    "       'Rating Avg.' : 4.50}, ignore_index=True)\n",
    "df_books = df_books.append({     \n",
    "     \"Book\": \"Dipping Into Sin\" ,\n",
    "      \"Rating #\": 744 , \n",
    "       'Rating Avg.' : 4.23}, ignore_index=True)\n",
    "df_books = df_books.append({     \n",
    "     \"Book\": \"The Color of Heaven(Book 1)\" ,\n",
    "      \"Rating #\": 720 , \n",
    "       'Rating Avg.' : 4.50}, ignore_index=True)"
   ]
  },
  {
   "cell_type": "code",
   "execution_count": 306,
   "metadata": {},
   "outputs": [
    {
     "data": {
      "text/html": [
       "<div>\n",
       "<style scoped>\n",
       "    .dataframe tbody tr th:only-of-type {\n",
       "        vertical-align: middle;\n",
       "    }\n",
       "\n",
       "    .dataframe tbody tr th {\n",
       "        vertical-align: top;\n",
       "    }\n",
       "\n",
       "    .dataframe thead th {\n",
       "        text-align: right;\n",
       "    }\n",
       "</style>\n",
       "<table border=\"1\" class=\"dataframe\">\n",
       "  <thead>\n",
       "    <tr style=\"text-align: right;\">\n",
       "      <th></th>\n",
       "      <th>Book</th>\n",
       "      <th>Rating #</th>\n",
       "      <th>Rating Avg.</th>\n",
       "    </tr>\n",
       "  </thead>\n",
       "  <tbody>\n",
       "    <tr>\n",
       "      <td>0</td>\n",
       "      <td>Fifty Shades of Grey</td>\n",
       "      <td>2217</td>\n",
       "      <td>4.34</td>\n",
       "    </tr>\n",
       "    <tr>\n",
       "      <td>1</td>\n",
       "      <td>The Atlantis Gene:(Book 1)</td>\n",
       "      <td>1461</td>\n",
       "      <td>4.14</td>\n",
       "    </tr>\n",
       "    <tr>\n",
       "      <td>2</td>\n",
       "      <td>Fueled (Book 2)</td>\n",
       "      <td>1327</td>\n",
       "      <td>4.83</td>\n",
       "    </tr>\n",
       "    <tr>\n",
       "      <td>3</td>\n",
       "      <td>Sense And Sensibility</td>\n",
       "      <td>1249</td>\n",
       "      <td>4.35</td>\n",
       "    </tr>\n",
       "    <tr>\n",
       "      <td>4</td>\n",
       "      <td>The Girl in the Box, Books 1-3</td>\n",
       "      <td>808</td>\n",
       "      <td>4.40</td>\n",
       "    </tr>\n",
       "    <tr>\n",
       "      <td>5</td>\n",
       "      <td>Tears of Tess (Book 1)</td>\n",
       "      <td>772</td>\n",
       "      <td>4.57</td>\n",
       "    </tr>\n",
       "    <tr>\n",
       "      <td>6</td>\n",
       "      <td>Takedown Twenty</td>\n",
       "      <td>762</td>\n",
       "      <td>4.17</td>\n",
       "    </tr>\n",
       "    <tr>\n",
       "      <td>7</td>\n",
       "      <td>When I'm Gone</td>\n",
       "      <td>761</td>\n",
       "      <td>4.50</td>\n",
       "    </tr>\n",
       "    <tr>\n",
       "      <td>8</td>\n",
       "      <td>Dipping Into Sin</td>\n",
       "      <td>744</td>\n",
       "      <td>4.23</td>\n",
       "    </tr>\n",
       "    <tr>\n",
       "      <td>9</td>\n",
       "      <td>The Color of Heaven(Book 1)</td>\n",
       "      <td>720</td>\n",
       "      <td>4.50</td>\n",
       "    </tr>\n",
       "  </tbody>\n",
       "</table>\n",
       "</div>"
      ],
      "text/plain": [
       "                             Book Rating #  Rating Avg.\n",
       "0            Fifty Shades of Grey     2217         4.34\n",
       "1      The Atlantis Gene:(Book 1)     1461         4.14\n",
       "2                 Fueled (Book 2)     1327         4.83\n",
       "3           Sense And Sensibility     1249         4.35\n",
       "4  The Girl in the Box, Books 1-3      808         4.40\n",
       "5          Tears of Tess (Book 1)      772         4.57\n",
       "6                 Takedown Twenty      762         4.17\n",
       "7                   When I'm Gone      761         4.50\n",
       "8                Dipping Into Sin      744         4.23\n",
       "9     The Color of Heaven(Book 1)      720         4.50"
      ]
     },
     "execution_count": 306,
     "metadata": {},
     "output_type": "execute_result"
    }
   ],
   "source": [
    "df_books"
   ]
  },
  {
   "cell_type": "code",
   "execution_count": 298,
   "metadata": {},
   "outputs": [
    {
     "data": {
      "text/plain": [
       "[Text(0, 0, 'Fifty Shades of Grey'),\n",
       " Text(0, 0, 'The Atlantis Gene:(Book 1)'),\n",
       " Text(0, 0, 'Fueled (Book 2)'),\n",
       " Text(0, 0, 'Sense And Sensibility'),\n",
       " Text(0, 0, 'The Girl in the Box, Books 1-3'),\n",
       " Text(0, 0, 'Tears of Tess (Book 1)'),\n",
       " Text(0, 0, 'Takedown Twenty'),\n",
       " Text(0, 0, \"When I'm Gone\"),\n",
       " Text(0, 0, 'Dipping Into Sin'),\n",
       " Text(0, 0, 'The Color of Heaven(Book 1)')]"
      ]
     },
     "execution_count": 298,
     "metadata": {},
     "output_type": "execute_result"
    },
    {
     "data": {
      "image/png": "[encoded data removed]",
      "text/plain": [
       "<Figure size 864x432 with 1 Axes>"
      ]
     },
     "metadata": {
      "needs_background": "light"
     },
     "output_type": "display_data"
    }
   ],
   "source": [
    "plt.figure(figsize=(12,6))\n",
    "ax = sns.barplot(x='Book', y=\"Rating Avg.\",data=df_books)\n",
    "ax.set_xticklabels(ax.get_xticklabels(), rotation=90,size=15)"
   ]
  },
  {
   "cell_type": "code",
   "execution_count": 307,
   "metadata": {},
   "outputs": [
    {
     "data": {
      "text/plain": [
       "[Text(0, 0, 'Fifty Shades of Grey'),\n",
       " Text(0, 0, 'The Atlantis Gene:(Book 1)'),\n",
       " Text(0, 0, 'Fueled (Book 2)'),\n",
       " Text(0, 0, 'Sense And Sensibility'),\n",
       " Text(0, 0, 'The Girl in the Box, Books 1-3'),\n",
       " Text(0, 0, 'Tears of Tess (Book 1)'),\n",
       " Text(0, 0, 'Takedown Twenty'),\n",
       " Text(0, 0, \"When I'm Gone\"),\n",
       " Text(0, 0, 'Dipping Into Sin'),\n",
       " Text(0, 0, 'The Color of Heaven(Book 1)')]"
      ]
     },
     "execution_count": 307,
     "metadata": {},
     "output_type": "execute_result"
    },
    {
     "data": {
      "image/png": "[encoded data removed]",
      "text/plain": [
       "<Figure size 864x432 with 1 Axes>"
      ]
     },
     "metadata": {
      "needs_background": "light"
     },
     "output_type": "display_data"
    }
   ],
   "source": [
    "plt.figure(figsize=(12,6))\n",
    "ax = sns.barplot(x='Book', y=\"Rating #\",data=df_books)\n",
    "ax.set_xticklabels(ax.get_xticklabels(), rotation=90,size=15)"
   ]
  },
  {
   "cell_type": "markdown",
   "metadata": {},
   "source": [
    "# Looking at Books According to 'title' Column (based on # of reviews)"
   ]
  },
  {
   "cell_type": "code",
   "execution_count": 225,
   "metadata": {
    "scrolled": true
   },
   "outputs": [
    {
     "data": {
      "text/plain": [
       "Grey: Fifty Shades of Grey as told                                                       2217\n",
       "Claimed                                                                                  2014\n",
       "Death                                                                                    1468\n",
       "The Atlantis Gene: A Thriller (The Origin Mystery, Book 1) - Kindle edition              1461\n",
       "Fueled (The Driven Series Book 2) - Kindle edition                                       1327\n",
       "Sense And Sensibility (Annotated                                                         1249\n",
       "Taken                                                                                    1199\n",
       "Bound                                                                                     843\n",
       "The Girl in the Box Series, Books 1-3: Alone, Untouched and Soulless - Kindle edition     808\n",
       "Tempted                                                                                   784\n",
       "Name: title, dtype: int64"
      ]
     },
     "execution_count": 225,
     "metadata": {},
     "output_type": "execute_result"
    }
   ],
   "source": [
    "df['title'].value_counts().head(10)"
   ]
  },
  {
   "cell_type": "markdown",
   "metadata": {},
   "source": [
    "When I look at the top 10 highest review numbers books, I realized this list is different than book ID's list. When I looked at the details in Amazon.com, I realized that some books have series but as title they were written as same. Also, there are different books with same names. So, finding a title according to Book ID is more reliable way from just looking at titles."
   ]
  },
  {
   "cell_type": "markdown",
   "metadata": {},
   "source": [
    "### 'style' Column"
   ]
  },
  {
   "cell_type": "code",
   "execution_count": 315,
   "metadata": {},
   "outputs": [
    {
     "data": {
      "text/plain": [
       "{'Format:': ' Kindle Edition'}                     2140965\n",
       "{'Format:': ' Paperback'}                            15887\n",
       "{'Format:': ' Hardcover'}                             7342\n",
       "{'Format:': ' Audible Audiobook'}                     2940\n",
       "{'Format:': ' Mass Market Paperback'}                 2353\n",
       "{'Format:': ' Audio CD'}                               193\n",
       "{'Format:': ' Kindle Edition with Audio/Video'}         79\n",
       "{'Format:': ' MP3 CD'}                                  46\n",
       "{'Format:': ' Print Magazine'}                          40\n",
       "{'Format:': ' Board book'}                              31\n",
       "{'Format:': ' Leather Bound'}                           29\n",
       "{'Format:': ' Audio Cassette'}                          14\n",
       "{'Format:': ' Perfect Paperback'}                       13\n",
       "{'Format:': ' Flexibound'}                               8\n",
       "{'Format:': ' School & Library Binding'}                 6\n",
       "{'Format:': ' DVD'}                                      6\n",
       "{'Format:': ' Library Binding'}                          5\n",
       "{'Format:': ' Imitation Leather'}                        4\n",
       "{'Format:': ' Prime Video'}                              3\n",
       "{'Format:': ' 3.5\" disk'}                                2\n",
       "{'Format:': ' Digital'}                                  2\n",
       "{'Format:': ' VHS Tape'}                                 1\n",
       "{'Format:': ' Unknown Binding'}                          1\n",
       "{'Format:': ' Preloaded Digital Audio Player'}           1\n",
       "{'Format:': ' Comic'}                                    1\n",
       "{'Format:': ' CD-ROM'}                                   1\n",
       "Name: style, dtype: int64"
      ]
     },
     "execution_count": 315,
     "metadata": {},
     "output_type": "execute_result"
    }
   ],
   "source": [
    "df['style'].value_counts()"
   ]
  },
  {
   "cell_type": "markdown",
   "metadata": {},
   "source": [
    "Normally, this data is taken from Amazon's Kindle Store pages so, most probably style is written different than Kindle Edition by mistake. But, to make sure(maybe advertised products mixed to the page) about working only with Kindle Store edition of books, I will drop ather styles from my data."
   ]
  },
  {
   "cell_type": "code",
   "execution_count": 321,
   "metadata": {},
   "outputs": [
    {
     "data": {
      "text/html": [
       "<div>\n",
       "<style scoped>\n",
       "    .dataframe tbody tr th:only-of-type {\n",
       "        vertical-align: middle;\n",
       "    }\n",
       "\n",
       "    .dataframe tbody tr th {\n",
       "        vertical-align: top;\n",
       "    }\n",
       "\n",
       "    .dataframe thead th {\n",
       "        text-align: right;\n",
       "    }\n",
       "</style>\n",
       "<table border=\"1\" class=\"dataframe\">\n",
       "  <thead>\n",
       "    <tr style=\"text-align: right;\">\n",
       "      <th></th>\n",
       "      <th>overall</th>\n",
       "      <th>verified</th>\n",
       "      <th>reviewTime</th>\n",
       "      <th>reviewerID</th>\n",
       "      <th>asin</th>\n",
       "      <th>style</th>\n",
       "      <th>reviewText</th>\n",
       "      <th>summary</th>\n",
       "      <th>unixReviewTime</th>\n",
       "      <th>vote</th>\n",
       "      <th>image</th>\n",
       "      <th>title</th>\n",
       "      <th>day</th>\n",
       "      <th>month</th>\n",
       "      <th>year</th>\n",
       "    </tr>\n",
       "  </thead>\n",
       "  <tbody>\n",
       "    <tr>\n",
       "      <td>0</td>\n",
       "      <td>4.0</td>\n",
       "      <td>True</td>\n",
       "      <td>2014-07-03</td>\n",
       "      <td>A2LSKD2H9U8N0J</td>\n",
       "      <td>B000FA5KK0</td>\n",
       "      <td>{'Format:': ' Kindle Edition'}</td>\n",
       "      <td>pretty good story, a little exaggerated, but I...</td>\n",
       "      <td>pretty good story</td>\n",
       "      <td>1404345600</td>\n",
       "      <td>NaN</td>\n",
       "      <td>NaN</td>\n",
       "      <td>NaN</td>\n",
       "      <td>3</td>\n",
       "      <td>7</td>\n",
       "      <td>2014</td>\n",
       "    </tr>\n",
       "    <tr>\n",
       "      <td>1</td>\n",
       "      <td>5.0</td>\n",
       "      <td>True</td>\n",
       "      <td>2014-05-26</td>\n",
       "      <td>A2QP13XTJND1QS</td>\n",
       "      <td>B000FA5KK0</td>\n",
       "      <td>{'Format:': ' Kindle Edition'}</td>\n",
       "      <td>If you've read other max brand westerns, you k...</td>\n",
       "      <td>A very good book</td>\n",
       "      <td>1401062400</td>\n",
       "      <td>NaN</td>\n",
       "      <td>NaN</td>\n",
       "      <td>NaN</td>\n",
       "      <td>26</td>\n",
       "      <td>5</td>\n",
       "      <td>2014</td>\n",
       "    </tr>\n",
       "    <tr>\n",
       "      <td>2</td>\n",
       "      <td>5.0</td>\n",
       "      <td>True</td>\n",
       "      <td>2016-09-16</td>\n",
       "      <td>A8WQ7MAG3HFOZ</td>\n",
       "      <td>B000FA5KK0</td>\n",
       "      <td>{'Format:': ' Kindle Edition'}</td>\n",
       "      <td>Love Max, always a fun twist</td>\n",
       "      <td>Five Stars</td>\n",
       "      <td>1473984000</td>\n",
       "      <td>NaN</td>\n",
       "      <td>NaN</td>\n",
       "      <td>NaN</td>\n",
       "      <td>16</td>\n",
       "      <td>9</td>\n",
       "      <td>2016</td>\n",
       "    </tr>\n",
       "    <tr>\n",
       "      <td>3</td>\n",
       "      <td>5.0</td>\n",
       "      <td>True</td>\n",
       "      <td>2016-03-03</td>\n",
       "      <td>A1E0MODSRYP7O</td>\n",
       "      <td>B000FA5KK0</td>\n",
       "      <td>{'Format:': ' Kindle Edition'}</td>\n",
       "      <td>As usual for him, a good book</td>\n",
       "      <td>a good</td>\n",
       "      <td>1456963200</td>\n",
       "      <td>NaN</td>\n",
       "      <td>NaN</td>\n",
       "      <td>NaN</td>\n",
       "      <td>3</td>\n",
       "      <td>3</td>\n",
       "      <td>2016</td>\n",
       "    </tr>\n",
       "    <tr>\n",
       "      <td>4</td>\n",
       "      <td>5.0</td>\n",
       "      <td>True</td>\n",
       "      <td>2015-09-10</td>\n",
       "      <td>AYUTCGVSM1H7T</td>\n",
       "      <td>B000FA5KK0</td>\n",
       "      <td>{'Format:': ' Kindle Edition'}</td>\n",
       "      <td>MB is one of the original western writers and ...</td>\n",
       "      <td>A Western</td>\n",
       "      <td>1441843200</td>\n",
       "      <td>2</td>\n",
       "      <td>NaN</td>\n",
       "      <td>NaN</td>\n",
       "      <td>10</td>\n",
       "      <td>9</td>\n",
       "      <td>2015</td>\n",
       "    </tr>\n",
       "    <tr>\n",
       "      <td>...</td>\n",
       "      <td>...</td>\n",
       "      <td>...</td>\n",
       "      <td>...</td>\n",
       "      <td>...</td>\n",
       "      <td>...</td>\n",
       "      <td>...</td>\n",
       "      <td>...</td>\n",
       "      <td>...</td>\n",
       "      <td>...</td>\n",
       "      <td>...</td>\n",
       "      <td>...</td>\n",
       "      <td>...</td>\n",
       "      <td>...</td>\n",
       "      <td>...</td>\n",
       "      <td>...</td>\n",
       "    </tr>\n",
       "    <tr>\n",
       "      <td>2222978</td>\n",
       "      <td>3.0</td>\n",
       "      <td>False</td>\n",
       "      <td>2016-07-16</td>\n",
       "      <td>A3Q6HJYRJX87Z9</td>\n",
       "      <td>B01HJENY3Y</td>\n",
       "      <td>{'Format:': ' Kindle Edition'}</td>\n",
       "      <td>Ok book but some parts just didn't add up I fe...</td>\n",
       "      <td>Cool book</td>\n",
       "      <td>1468627200</td>\n",
       "      <td>NaN</td>\n",
       "      <td>NaN</td>\n",
       "      <td>Poison Kisses 2: My Best Kept Secret - Kindle ...</td>\n",
       "      <td>16</td>\n",
       "      <td>7</td>\n",
       "      <td>2016</td>\n",
       "    </tr>\n",
       "    <tr>\n",
       "      <td>2222979</td>\n",
       "      <td>5.0</td>\n",
       "      <td>False</td>\n",
       "      <td>2016-07-12</td>\n",
       "      <td>A2O7HQNKCMOMUP</td>\n",
       "      <td>B01HJENY3Y</td>\n",
       "      <td>{'Format:': ' Kindle Edition'}</td>\n",
       "      <td>Kia I loved this book.  I am so glad that Sky ...</td>\n",
       "      <td>Crazy Read</td>\n",
       "      <td>1468281600</td>\n",
       "      <td>NaN</td>\n",
       "      <td>NaN</td>\n",
       "      <td>Poison Kisses 2: My Best Kept Secret - Kindle ...</td>\n",
       "      <td>12</td>\n",
       "      <td>7</td>\n",
       "      <td>2016</td>\n",
       "    </tr>\n",
       "    <tr>\n",
       "      <td>2222980</td>\n",
       "      <td>5.0</td>\n",
       "      <td>False</td>\n",
       "      <td>2016-07-01</td>\n",
       "      <td>A38NOWP7LQI8CM</td>\n",
       "      <td>B01HJENY3Y</td>\n",
       "      <td>{'Format:': ' Kindle Edition'}</td>\n",
       "      <td>This picks up where part one left off. Secret ...</td>\n",
       "      <td>Loved it</td>\n",
       "      <td>1467331200</td>\n",
       "      <td>NaN</td>\n",
       "      <td>NaN</td>\n",
       "      <td>Poison Kisses 2: My Best Kept Secret - Kindle ...</td>\n",
       "      <td>1</td>\n",
       "      <td>7</td>\n",
       "      <td>2016</td>\n",
       "    </tr>\n",
       "    <tr>\n",
       "      <td>2222981</td>\n",
       "      <td>5.0</td>\n",
       "      <td>False</td>\n",
       "      <td>2016-07-01</td>\n",
       "      <td>A1H9WGEEKVK0FM</td>\n",
       "      <td>B01HJENY3Y</td>\n",
       "      <td>{'Format:': ' Kindle Edition'}</td>\n",
       "      <td>What a beautiful ending to such a twisted begi...</td>\n",
       "      <td>Beautiful ending</td>\n",
       "      <td>1467331200</td>\n",
       "      <td>NaN</td>\n",
       "      <td>NaN</td>\n",
       "      <td>Poison Kisses 2: My Best Kept Secret - Kindle ...</td>\n",
       "      <td>1</td>\n",
       "      <td>7</td>\n",
       "      <td>2016</td>\n",
       "    </tr>\n",
       "    <tr>\n",
       "      <td>2222982</td>\n",
       "      <td>5.0</td>\n",
       "      <td>True</td>\n",
       "      <td>2016-07-01</td>\n",
       "      <td>AGBVBXSAJDD4H</td>\n",
       "      <td>B01HJENY3Y</td>\n",
       "      <td>{'Format:': ' Kindle Edition'}</td>\n",
       "      <td>Honey let me tell you Ms. Kia must have been r...</td>\n",
       "      <td>Glad Tuesday received her happy ever after</td>\n",
       "      <td>1467331200</td>\n",
       "      <td>NaN</td>\n",
       "      <td>NaN</td>\n",
       "      <td>Poison Kisses 2: My Best Kept Secret - Kindle ...</td>\n",
       "      <td>1</td>\n",
       "      <td>7</td>\n",
       "      <td>2016</td>\n",
       "    </tr>\n",
       "  </tbody>\n",
       "</table>\n",
       "<p>2140965 rows × 15 columns</p>\n",
       "</div>"
      ],
      "text/plain": [
       "         overall  verified reviewTime      reviewerID        asin  \\\n",
       "0            4.0      True 2014-07-03  A2LSKD2H9U8N0J  B000FA5KK0   \n",
       "1            5.0      True 2014-05-26  A2QP13XTJND1QS  B000FA5KK0   \n",
       "2            5.0      True 2016-09-16   A8WQ7MAG3HFOZ  B000FA5KK0   \n",
       "3            5.0      True 2016-03-03   A1E0MODSRYP7O  B000FA5KK0   \n",
       "4            5.0      True 2015-09-10   AYUTCGVSM1H7T  B000FA5KK0   \n",
       "...          ...       ...        ...             ...         ...   \n",
       "2222978      3.0     False 2016-07-16  A3Q6HJYRJX87Z9  B01HJENY3Y   \n",
       "2222979      5.0     False 2016-07-12  A2O7HQNKCMOMUP  B01HJENY3Y   \n",
       "2222980      5.0     False 2016-07-01  A38NOWP7LQI8CM  B01HJENY3Y   \n",
       "2222981      5.0     False 2016-07-01  A1H9WGEEKVK0FM  B01HJENY3Y   \n",
       "2222982      5.0      True 2016-07-01   AGBVBXSAJDD4H  B01HJENY3Y   \n",
       "\n",
       "                                  style  \\\n",
       "0        {'Format:': ' Kindle Edition'}   \n",
       "1        {'Format:': ' Kindle Edition'}   \n",
       "2        {'Format:': ' Kindle Edition'}   \n",
       "3        {'Format:': ' Kindle Edition'}   \n",
       "4        {'Format:': ' Kindle Edition'}   \n",
       "...                                 ...   \n",
       "2222978  {'Format:': ' Kindle Edition'}   \n",
       "2222979  {'Format:': ' Kindle Edition'}   \n",
       "2222980  {'Format:': ' Kindle Edition'}   \n",
       "2222981  {'Format:': ' Kindle Edition'}   \n",
       "2222982  {'Format:': ' Kindle Edition'}   \n",
       "\n",
       "                                                reviewText  \\\n",
       "0        pretty good story, a little exaggerated, but I...   \n",
       "1        If you've read other max brand westerns, you k...   \n",
       "2                             Love Max, always a fun twist   \n",
       "3                            As usual for him, a good book   \n",
       "4        MB is one of the original western writers and ...   \n",
       "...                                                    ...   \n",
       "2222978  Ok book but some parts just didn't add up I fe...   \n",
       "2222979  Kia I loved this book.  I am so glad that Sky ...   \n",
       "2222980  This picks up where part one left off. Secret ...   \n",
       "2222981  What a beautiful ending to such a twisted begi...   \n",
       "2222982  Honey let me tell you Ms. Kia must have been r...   \n",
       "\n",
       "                                            summary  unixReviewTime vote  \\\n",
       "0                                 pretty good story      1404345600  NaN   \n",
       "1                                  A very good book      1401062400  NaN   \n",
       "2                                        Five Stars      1473984000  NaN   \n",
       "3                                            a good      1456963200  NaN   \n",
       "4                                         A Western      1441843200    2   \n",
       "...                                             ...             ...  ...   \n",
       "2222978                                   Cool book      1468627200  NaN   \n",
       "2222979                                  Crazy Read      1468281600  NaN   \n",
       "2222980                                    Loved it      1467331200  NaN   \n",
       "2222981                            Beautiful ending      1467331200  NaN   \n",
       "2222982  Glad Tuesday received her happy ever after      1467331200  NaN   \n",
       "\n",
       "        image                                              title  day  month  \\\n",
       "0         NaN                                                NaN    3      7   \n",
       "1         NaN                                                NaN   26      5   \n",
       "2         NaN                                                NaN   16      9   \n",
       "3         NaN                                                NaN    3      3   \n",
       "4         NaN                                                NaN   10      9   \n",
       "...       ...                                                ...  ...    ...   \n",
       "2222978   NaN  Poison Kisses 2: My Best Kept Secret - Kindle ...   16      7   \n",
       "2222979   NaN  Poison Kisses 2: My Best Kept Secret - Kindle ...   12      7   \n",
       "2222980   NaN  Poison Kisses 2: My Best Kept Secret - Kindle ...    1      7   \n",
       "2222981   NaN  Poison Kisses 2: My Best Kept Secret - Kindle ...    1      7   \n",
       "2222982   NaN  Poison Kisses 2: My Best Kept Secret - Kindle ...    1      7   \n",
       "\n",
       "         year  \n",
       "0        2014  \n",
       "1        2014  \n",
       "2        2016  \n",
       "3        2016  \n",
       "4        2015  \n",
       "...       ...  \n",
       "2222978  2016  \n",
       "2222979  2016  \n",
       "2222980  2016  \n",
       "2222981  2016  \n",
       "2222982  2016  \n",
       "\n",
       "[2140965 rows x 15 columns]"
      ]
     },
     "execution_count": 321,
     "metadata": {},
     "output_type": "execute_result"
    }
   ],
   "source": [
    "df.loc[df['style'] == \"{'Format:': ' Kindle Edition'}\"]"
   ]
  },
  {
   "cell_type": "code",
   "execution_count": 154,
   "metadata": {},
   "outputs": [
    {
     "data": {
      "text/plain": [
       "1260983"
      ]
     },
     "execution_count": 154,
     "metadata": {},
     "output_type": "execute_result"
    }
   ],
   "source": [
    "df_merged['summary'].nunique()"
   ]
  },
  {
   "cell_type": "code",
   "execution_count": 155,
   "metadata": {},
   "outputs": [
    {
     "data": {
      "text/plain": [
       "'pretty good story'"
      ]
     },
     "execution_count": 155,
     "metadata": {},
     "output_type": "execute_result"
    }
   ],
   "source": [
    "df_merged['summary'][0]"
   ]
  },
  {
   "cell_type": "code",
   "execution_count": 156,
   "metadata": {},
   "outputs": [
    {
     "data": {
      "text/plain": [
       "'pretty good story, a little exaggerated, but I liked it pretty well.  liked the characters, the plot..it had mystery, action, love, all of the main things. I think most western lovers would injoy this book'"
      ]
     },
     "execution_count": 156,
     "metadata": {},
     "output_type": "execute_result"
    }
   ],
   "source": [
    "df_merged['reviewText'][0]"
   ]
  },
  {
   "cell_type": "code",
   "execution_count": 157,
   "metadata": {},
   "outputs": [
    {
     "data": {
      "text/plain": [
       "2    131605\n",
       "3     56434\n",
       "4     30207\n",
       "5     18149\n",
       "6     11770\n",
       "Name: vote, dtype: int64"
      ]
     },
     "execution_count": 157,
     "metadata": {},
     "output_type": "execute_result"
    }
   ],
   "source": [
    "df_merged['vote'].value_counts().head()"
   ]
  },
  {
   "cell_type": "code",
   "execution_count": 158,
   "metadata": {},
   "outputs": [
    {
     "data": {
      "text/plain": [
       "['https://images-na.ssl-images-amazon.com/images/I/31s3gdrv9GL._SY88.jpg']    14\n",
       "['https://images-na.ssl-images-amazon.com/images/I/51-Fi5BvzbL._SY88.jpg']     9\n",
       "['https://images-na.ssl-images-amazon.com/images/I/71eN5U4UQoL._SY88.jpg']     7\n",
       "['https://images-na.ssl-images-amazon.com/images/I/61Rr6pfHbeL._SY88.jpg']     7\n",
       "['https://images-na.ssl-images-amazon.com/images/I/41JoJPMkZhL._SY88.jpg']     6\n",
       "Name: image, dtype: int64"
      ]
     },
     "execution_count": 158,
     "metadata": {},
     "output_type": "execute_result"
    }
   ],
   "source": [
    "df_merged['image'].value_counts().head()"
   ]
  },
  {
   "cell_type": "markdown",
   "metadata": {},
   "source": [
    "# I am here"
   ]
  },
  {
   "cell_type": "code",
   "execution_count": 10,
   "metadata": {},
   "outputs": [
    {
     "data": {
      "text/html": [
       "<div>\n",
       "<style scoped>\n",
       "    .dataframe tbody tr th:only-of-type {\n",
       "        vertical-align: middle;\n",
       "    }\n",
       "\n",
       "    .dataframe tbody tr th {\n",
       "        vertical-align: top;\n",
       "    }\n",
       "\n",
       "    .dataframe thead th {\n",
       "        text-align: right;\n",
       "    }\n",
       "</style>\n",
       "<table border=\"1\" class=\"dataframe\">\n",
       "  <thead>\n",
       "    <tr style=\"text-align: right;\">\n",
       "      <th></th>\n",
       "      <th>reviewText</th>\n",
       "      <th>overall</th>\n",
       "    </tr>\n",
       "  </thead>\n",
       "  <tbody>\n",
       "    <tr>\n",
       "      <td>0</td>\n",
       "      <td>pretty good story, a little exaggerated, but I...</td>\n",
       "      <td>4.0</td>\n",
       "    </tr>\n",
       "    <tr>\n",
       "      <td>1</td>\n",
       "      <td>If you've read other max brand westerns, you k...</td>\n",
       "      <td>5.0</td>\n",
       "    </tr>\n",
       "    <tr>\n",
       "      <td>2</td>\n",
       "      <td>Love Max, always a fun twist</td>\n",
       "      <td>5.0</td>\n",
       "    </tr>\n",
       "    <tr>\n",
       "      <td>3</td>\n",
       "      <td>As usual for him, a good book</td>\n",
       "      <td>5.0</td>\n",
       "    </tr>\n",
       "    <tr>\n",
       "      <td>4</td>\n",
       "      <td>MB is one of the original western writers and ...</td>\n",
       "      <td>5.0</td>\n",
       "    </tr>\n",
       "  </tbody>\n",
       "</table>\n",
       "</div>"
      ],
      "text/plain": [
       "                                          reviewText  overall\n",
       "0  pretty good story, a little exaggerated, but I...      4.0\n",
       "1  If you've read other max brand westerns, you k...      5.0\n",
       "2                       Love Max, always a fun twist      5.0\n",
       "3                      As usual for him, a good book      5.0\n",
       "4  MB is one of the original western writers and ...      5.0"
      ]
     },
     "execution_count": 10,
     "metadata": {},
     "output_type": "execute_result"
    }
   ],
   "source": [
    "df = df.loc[:, ['reviewText', 'overall']]\n",
    "df.head()"
   ]
  },
  {
   "cell_type": "code",
   "execution_count": 111,
   "metadata": {},
   "outputs": [],
   "source": [
    "df_trial = df.head(10000)"
   ]
  },
  {
   "cell_type": "code",
   "execution_count": 112,
   "metadata": {
    "scrolled": true
   },
   "outputs": [
    {
     "name": "stdout",
     "output_type": "stream",
     "text": [
      "<class 'pandas.core.frame.DataFrame'>\n",
      "RangeIndex: 10000 entries, 0 to 9999\n",
      "Data columns (total 2 columns):\n",
      "reviewText    9991 non-null object\n",
      "overall       10000 non-null float64\n",
      "dtypes: float64(1), object(1)\n",
      "memory usage: 156.4+ KB\n"
     ]
    }
   ],
   "source": [
    "df_trial.info()"
   ]
  },
  {
   "cell_type": "code",
   "execution_count": 113,
   "metadata": {
    "scrolled": true
   },
   "outputs": [
    {
     "name": "stderr",
     "output_type": "stream",
     "text": [
      "/Users/ezgi/opt/anaconda3/envs/learn-env/lib/python3.6/site-packages/ipykernel_launcher.py:1: SettingWithCopyWarning: \n",
      "A value is trying to be set on a copy of a slice from a DataFrame.\n",
      "Try using .loc[row_indexer,col_indexer] = value instead\n",
      "\n",
      "See the caveats in the documentation: http://pandas.pydata.org/pandas-docs/stable/user_guide/indexing.html#returning-a-view-versus-a-copy\n",
      "  \"\"\"Entry point for launching an IPython kernel.\n"
     ]
    }
   ],
   "source": [
    "df_trial['overall'] = df_trial['overall'].apply(np.int64)"
   ]
  },
  {
   "cell_type": "code",
   "execution_count": 114,
   "metadata": {},
   "outputs": [
    {
     "name": "stdout",
     "output_type": "stream",
     "text": [
      "<class 'pandas.core.frame.DataFrame'>\n",
      "RangeIndex: 10000 entries, 0 to 9999\n",
      "Data columns (total 2 columns):\n",
      "reviewText    9991 non-null object\n",
      "overall       10000 non-null int64\n",
      "dtypes: int64(1), object(1)\n",
      "memory usage: 156.4+ KB\n"
     ]
    }
   ],
   "source": [
    "df_trial.info()"
   ]
  },
  {
   "cell_type": "code",
   "execution_count": 115,
   "metadata": {},
   "outputs": [
    {
     "data": {
      "text/plain": [
       "reviewText    9\n",
       "overall       0\n",
       "dtype: int64"
      ]
     },
     "execution_count": 115,
     "metadata": {},
     "output_type": "execute_result"
    }
   ],
   "source": [
    "df_trial.isna().sum()"
   ]
  },
  {
   "cell_type": "code",
   "execution_count": 116,
   "metadata": {},
   "outputs": [],
   "source": [
    "df_trial = df_trial.dropna()"
   ]
  },
  {
   "cell_type": "code",
   "execution_count": 118,
   "metadata": {},
   "outputs": [
    {
     "name": "stdout",
     "output_type": "stream",
     "text": [
      "<class 'pandas.core.frame.DataFrame'>\n",
      "Int64Index: 9991 entries, 0 to 9999\n",
      "Data columns (total 2 columns):\n",
      "reviewText    9991 non-null object\n",
      "overall       9991 non-null int64\n",
      "dtypes: int64(1), object(1)\n",
      "memory usage: 234.2+ KB\n"
     ]
    }
   ],
   "source": [
    "df_trial.info()"
   ]
  },
  {
   "cell_type": "code",
   "execution_count": 119,
   "metadata": {},
   "outputs": [],
   "source": [
    "def calc_sentiment(overall):\n",
    "    if overall == 5:\n",
    "        return 2\n",
    "    elif overall == 4:\n",
    "        return 2\n",
    "    elif overall == 1 :\n",
    "        return 0\n",
    "    elif overall == 2 :\n",
    "        return 0\n",
    "    else:\n",
    "        return 1"
   ]
  },
  {
   "cell_type": "code",
   "execution_count": 120,
   "metadata": {},
   "outputs": [],
   "source": [
    "df_trial['sentiment'] = df_trial['overall'].apply(calc_sentiment)"
   ]
  },
  {
   "cell_type": "code",
   "execution_count": 121,
   "metadata": {},
   "outputs": [
    {
     "data": {
      "text/plain": [
       "2    7993\n",
       "1    1141\n",
       "0     857\n",
       "Name: sentiment, dtype: int64"
      ]
     },
     "execution_count": 121,
     "metadata": {},
     "output_type": "execute_result"
    }
   ],
   "source": [
    "df_trial['sentiment'].value_counts()"
   ]
  },
  {
   "cell_type": "code",
   "execution_count": 41,
   "metadata": {},
   "outputs": [],
   "source": [
    "from wordcloud import WordCloud, STOPWORDS"
   ]
  },
  {
   "cell_type": "code",
   "execution_count": 43,
   "metadata": {},
   "outputs": [],
   "source": [
    "import matplotlib.pyplot as plt\n",
    "import seaborn as sns\n",
    "%matplotlib inline"
   ]
  },
  {
   "cell_type": "code",
   "execution_count": 122,
   "metadata": {},
   "outputs": [
    {
     "data": {
      "image/png": "[encoded data removed]",
      "text/plain": [
       "<Figure size 1728x1152 with 1 Axes>"
      ]
     },
     "metadata": {
      "needs_background": "light"
     },
     "output_type": "display_data"
    }
   ],
   "source": [
    "def plot_wordcloud(text, mask=None, max_words=200, max_font_size=100, figure_size=(24.0,16.0), \n",
    "                   title = None, title_size=40, image_color=False):\n",
    "    stopwords = set(STOPWORDS)\n",
    "\n",
    "    wordcloud = WordCloud(background_color='black',\n",
    "                    stopwords = stopwords,\n",
    "                    max_words = max_words,\n",
    "                    max_font_size = max_font_size, \n",
    "                    random_state = 42,\n",
    "                    width=800, \n",
    "                    height=400,\n",
    "                    mask = mask)\n",
    "    wordcloud.generate(str(text))\n",
    "    \n",
    "    plt.figure(figsize=figure_size)\n",
    "    if image_color:\n",
    "        image_colors = ImageColorGenerator(mask);\n",
    "        plt.imshow(wordcloud.recolor(color_func=image_colors), interpolation=\"bilinear\");\n",
    "        plt.title(title, fontdict={'size': title_size,  \n",
    "                                  'verticalalignment': 'bottom'})\n",
    "    else:\n",
    "        plt.imshow(wordcloud);\n",
    "        plt.title(title, fontdict={'size': title_size, 'color': 'black', \n",
    "                                  'verticalalignment': 'bottom'})\n",
    "    plt.axis('off');\n",
    "    plt.tight_layout()  \n",
    "    \n",
    "plot_wordcloud(df_trial['reviewText'], title=\"Word Cloud of Amazon Kindle Store Reviews\")\n",
    "\n"
   ]
  },
  {
   "cell_type": "code",
   "execution_count": 123,
   "metadata": {},
   "outputs": [],
   "source": [
    "stopwords = set(STOPWORDS)"
   ]
  },
  {
   "cell_type": "code",
   "execution_count": 124,
   "metadata": {},
   "outputs": [
    {
     "data": {
      "text/plain": [
       "{'a',\n",
       " 'about',\n",
       " 'above',\n",
       " 'after',\n",
       " 'again',\n",
       " 'against',\n",
       " 'all',\n",
       " 'also',\n",
       " 'am',\n",
       " 'an',\n",
       " 'and',\n",
       " 'any',\n",
       " 'are',\n",
       " \"aren't\",\n",
       " 'as',\n",
       " 'at',\n",
       " 'be',\n",
       " 'because',\n",
       " 'been',\n",
       " 'before',\n",
       " 'being',\n",
       " 'below',\n",
       " 'between',\n",
       " 'both',\n",
       " 'but',\n",
       " 'by',\n",
       " 'can',\n",
       " \"can't\",\n",
       " 'cannot',\n",
       " 'com',\n",
       " 'could',\n",
       " \"couldn't\",\n",
       " 'did',\n",
       " \"didn't\",\n",
       " 'do',\n",
       " 'does',\n",
       " \"doesn't\",\n",
       " 'doing',\n",
       " \"don't\",\n",
       " 'down',\n",
       " 'during',\n",
       " 'each',\n",
       " 'else',\n",
       " 'ever',\n",
       " 'few',\n",
       " 'for',\n",
       " 'from',\n",
       " 'further',\n",
       " 'get',\n",
       " 'had',\n",
       " \"hadn't\",\n",
       " 'has',\n",
       " \"hasn't\",\n",
       " 'have',\n",
       " \"haven't\",\n",
       " 'having',\n",
       " 'he',\n",
       " \"he'd\",\n",
       " \"he'll\",\n",
       " \"he's\",\n",
       " 'hence',\n",
       " 'her',\n",
       " 'here',\n",
       " \"here's\",\n",
       " 'hers',\n",
       " 'herself',\n",
       " 'him',\n",
       " 'himself',\n",
       " 'his',\n",
       " 'how',\n",
       " \"how's\",\n",
       " 'however',\n",
       " 'http',\n",
       " 'i',\n",
       " \"i'd\",\n",
       " \"i'll\",\n",
       " \"i'm\",\n",
       " \"i've\",\n",
       " 'if',\n",
       " 'in',\n",
       " 'into',\n",
       " 'is',\n",
       " \"isn't\",\n",
       " 'it',\n",
       " \"it's\",\n",
       " 'its',\n",
       " 'itself',\n",
       " 'just',\n",
       " 'k',\n",
       " \"let's\",\n",
       " 'like',\n",
       " 'me',\n",
       " 'more',\n",
       " 'most',\n",
       " \"mustn't\",\n",
       " 'my',\n",
       " 'myself',\n",
       " 'no',\n",
       " 'nor',\n",
       " 'not',\n",
       " 'of',\n",
       " 'off',\n",
       " 'on',\n",
       " 'once',\n",
       " 'only',\n",
       " 'or',\n",
       " 'other',\n",
       " 'otherwise',\n",
       " 'ought',\n",
       " 'our',\n",
       " 'ours',\n",
       " 'ourselves',\n",
       " 'out',\n",
       " 'over',\n",
       " 'own',\n",
       " 'r',\n",
       " 'same',\n",
       " 'shall',\n",
       " \"shan't\",\n",
       " 'she',\n",
       " \"she'd\",\n",
       " \"she'll\",\n",
       " \"she's\",\n",
       " 'should',\n",
       " \"shouldn't\",\n",
       " 'since',\n",
       " 'so',\n",
       " 'some',\n",
       " 'such',\n",
       " 'than',\n",
       " 'that',\n",
       " \"that's\",\n",
       " 'the',\n",
       " 'their',\n",
       " 'theirs',\n",
       " 'them',\n",
       " 'themselves',\n",
       " 'then',\n",
       " 'there',\n",
       " \"there's\",\n",
       " 'therefore',\n",
       " 'these',\n",
       " 'they',\n",
       " \"they'd\",\n",
       " \"they'll\",\n",
       " \"they're\",\n",
       " \"they've\",\n",
       " 'this',\n",
       " 'those',\n",
       " 'through',\n",
       " 'to',\n",
       " 'too',\n",
       " 'under',\n",
       " 'until',\n",
       " 'up',\n",
       " 'very',\n",
       " 'was',\n",
       " \"wasn't\",\n",
       " 'we',\n",
       " \"we'd\",\n",
       " \"we'll\",\n",
       " \"we're\",\n",
       " \"we've\",\n",
       " 'were',\n",
       " \"weren't\",\n",
       " 'what',\n",
       " \"what's\",\n",
       " 'when',\n",
       " \"when's\",\n",
       " 'where',\n",
       " \"where's\",\n",
       " 'which',\n",
       " 'while',\n",
       " 'who',\n",
       " \"who's\",\n",
       " 'whom',\n",
       " 'why',\n",
       " \"why's\",\n",
       " 'with',\n",
       " \"won't\",\n",
       " 'would',\n",
       " \"wouldn't\",\n",
       " 'www',\n",
       " 'you',\n",
       " \"you'd\",\n",
       " \"you'll\",\n",
       " \"you're\",\n",
       " \"you've\",\n",
       " 'your',\n",
       " 'yours',\n",
       " 'yourself',\n",
       " 'yourselves'}"
      ]
     },
     "execution_count": 124,
     "metadata": {},
     "output_type": "execute_result"
    }
   ],
   "source": [
    "stopwords"
   ]
  },
  {
   "cell_type": "code",
   "execution_count": 143,
   "metadata": {},
   "outputs": [],
   "source": [
    "def model(df) :\n",
    "    X_train, X_test, y_train, y_test = train_test_split(df['reviewText'], \n",
    "                                                        df['sentiment'], test_size=0.2, random_state=42)\n",
    "    print(X_train.shape)\n",
    "    print(X_test.shape)\n",
    "        \n",
    "    word_vectorizer = TfidfVectorizer(\n",
    "        sublinear_tf=True,\n",
    "        strip_accents='unicode',\n",
    "        analyzer='word',\n",
    "        token_pattern=r'\\w{1,}',\n",
    "        stop_words='english',\n",
    "        ngram_range=(1, 1),\n",
    "        max_features=10000)\n",
    "\n",
    "    word_vectorizer.fit(df['reviewText'])\n",
    "    train_word_features = word_vectorizer.transform(X_train)\n",
    "    test_word_features = word_vectorizer.transform(X_test)\n",
    "     \n",
    "    classifier = LogisticRegression(class_weight = \"balanced\", C=0.5, solver='sag')\n",
    "    classifier.fit(train_word_features, y_train)\n",
    "    \n",
    "    y_pred_train = classifier.predict(train_word_features)\n",
    "    y_pred = classifier.predict(test_word_features)\n",
    "          \n",
    "    print(\"Accuracy:\"); print(\"=\"*len(\"Accuracy:\"))\n",
    "    print(f\"TRAIN: {accuracy_score(y_train, y_pred_train)}\")\n",
    "    print(f\"TEST: {accuracy_score(y_test, y_pred)}\")\n",
    "\n",
    "    print(\"\\nBalanced Accuracy:\"); print(\"=\"*len(\"Balanced Accuracy:\"))\n",
    "    print(f\"TRAIN: {balanced_accuracy_score(y_train, y_pred_train)}\")\n",
    "    print(f\"TEST: {balanced_accuracy_score(y_test, y_pred)}\")\n",
    "    \n",
    "    cm = confusion_matrix(y_test, y_pred)\n",
    "    plot_confusion_matrix(cm)\n",
    "    plt.show()"
   ]
  },
  {
   "cell_type": "code",
   "execution_count": 144,
   "metadata": {
    "scrolled": true
   },
   "outputs": [
    {
     "name": "stdout",
     "output_type": "stream",
     "text": [
      "(7992,)\n",
      "(1999,)\n",
      "Accuracy:\n",
      "=========\n",
      "TRAIN: 0.8845095095095095\n",
      "TEST: 0.7983991995997999\n",
      "\n",
      "Balanced Accuracy:\n",
      "==================\n",
      "TRAIN: 0.9203877867707013\n",
      "TEST: 0.6872216188272565\n"
     ]
    },
    {
     "data": {
      "image/png": "[encoded data removed]",
      "text/plain": [
       "<Figure size 432x288 with 1 Axes>"
      ]
     },
     "metadata": {
      "needs_background": "light"
     },
     "output_type": "display_data"
    }
   ],
   "source": [
    "model(df_trial)"
   ]
  },
  {
   "cell_type": "markdown",
   "metadata": {},
   "source": [
    "# LogReg with 10000 balanced target classes sampled"
   ]
  },
  {
   "cell_type": "code",
   "execution_count": 145,
   "metadata": {},
   "outputs": [],
   "source": [
    "df['overall'] = df['overall'].apply(np.int64)"
   ]
  },
  {
   "cell_type": "code",
   "execution_count": 146,
   "metadata": {},
   "outputs": [],
   "source": [
    "df['sentiment'] = df['overall'].apply(calc_sentiment)"
   ]
  },
  {
   "cell_type": "code",
   "execution_count": 147,
   "metadata": {},
   "outputs": [
    {
     "data": {
      "text/plain": [
       "2    1909965\n",
       "1     197949\n",
       "0     115069\n",
       "Name: sentiment, dtype: int64"
      ]
     },
     "execution_count": 147,
     "metadata": {},
     "output_type": "execute_result"
    }
   ],
   "source": [
    "df['sentiment'].value_counts()"
   ]
  },
  {
   "cell_type": "code",
   "execution_count": 149,
   "metadata": {},
   "outputs": [],
   "source": [
    "df_0 = df.loc[df['sentiment']==0].head(10000)"
   ]
  },
  {
   "cell_type": "code",
   "execution_count": 150,
   "metadata": {},
   "outputs": [],
   "source": [
    "df_1 = df.loc[df['sentiment']==1].head(10000)"
   ]
  },
  {
   "cell_type": "code",
   "execution_count": 151,
   "metadata": {},
   "outputs": [],
   "source": [
    "df_2 = df.loc[df['sentiment']==2].head(10000)"
   ]
  },
  {
   "cell_type": "code",
   "execution_count": 152,
   "metadata": {},
   "outputs": [],
   "source": [
    "frames = [df_0, df_1, df_2]\n",
    "\n",
    "df_trial_new = pd.concat(frames)"
   ]
  },
  {
   "cell_type": "code",
   "execution_count": 154,
   "metadata": {},
   "outputs": [
    {
     "data": {
      "text/plain": [
       "2    10000\n",
       "1    10000\n",
       "0    10000\n",
       "Name: sentiment, dtype: int64"
      ]
     },
     "execution_count": 154,
     "metadata": {},
     "output_type": "execute_result"
    }
   ],
   "source": [
    "df_trial_new['sentiment'].value_counts()"
   ]
  },
  {
   "cell_type": "code",
   "execution_count": 166,
   "metadata": {},
   "outputs": [],
   "source": [
    "df_trial_new = df_trial_new.dropna()"
   ]
  },
  {
   "cell_type": "code",
   "execution_count": 167,
   "metadata": {},
   "outputs": [
    {
     "name": "stdout",
     "output_type": "stream",
     "text": [
      "(23991,)\n",
      "(5998,)\n",
      "Accuracy:\n",
      "=========\n",
      "TRAIN: 0.7844608394814723\n",
      "TEST: 0.6958986328776259\n",
      "\n",
      "Balanced Accuracy:\n",
      "==================\n",
      "TRAIN: 0.7844072276092117\n",
      "TEST: 0.6963028825222364\n"
     ]
    },
    {
     "data": {
      "image/png": "[encoded data removed]",
      "text/plain": [
       "<Figure size 432x288 with 1 Axes>"
      ]
     },
     "metadata": {
      "needs_background": "light"
     },
     "output_type": "display_data"
    }
   ],
   "source": [
    "model(df_trial_new)"
   ]
  },
  {
   "cell_type": "markdown",
   "metadata": {},
   "source": [
    "# Trial with 2-sentiments and torch from \n",
    "\n",
    "https://www.kaggle.com/lalwaniabhishek/abhishek-lalwani-bits-twitter-text\n",
    "\n",
    "pre-trained model baseline "
   ]
  },
  {
   "cell_type": "code",
   "execution_count": 162,
   "metadata": {},
   "outputs": [],
   "source": [
    "def generate_bigrams(x):\n",
    "    n_grams = set(zip(*[x[i:] for i in range(2)]))\n",
    "    for n_gram in n_grams:\n",
    "        x.append(' '.join(n_gram))\n",
    "    return x"
   ]
  },
  {
   "cell_type": "code",
   "execution_count": 159,
   "metadata": {},
   "outputs": [],
   "source": [
    "def generate_trigrams(x):\n",
    "    n_grams = set(zip(*[x[i:] for i in range(3)]))\n",
    "    for n_gram in n_grams:\n",
    "        x.append(' '.join(n_gram))\n",
    "    return x"
   ]
  },
  {
   "cell_type": "code",
   "execution_count": 163,
   "metadata": {},
   "outputs": [
    {
     "data": {
      "text/plain": [
       "['This', 'film', 'is', 'terrible', 'is terrible', 'film is', 'This film']"
      ]
     },
     "execution_count": 163,
     "metadata": {},
     "output_type": "execute_result"
    }
   ],
   "source": [
    "#Testing the method\n",
    "generate_bigrams(['This', 'film', 'is', 'terrible'])"
   ]
  },
  {
   "cell_type": "code",
   "execution_count": 71,
   "metadata": {},
   "outputs": [],
   "source": [
    "import torch\n",
    "from torchtext import data\n",
    "from torchtext import datasets"
   ]
  },
  {
   "cell_type": "code",
   "execution_count": 72,
   "metadata": {},
   "outputs": [],
   "source": [
    "import random\n",
    "\n",
    "SEED = 1234\n",
    "\n",
    "torch.manual_seed(SEED)\n",
    "torch.backends.cudnn.deterministic = True\n",
    "\n",
    "TEXT = data.Field(preprocessing = generate_bigrams)\n",
    "TARGET = data.LabelField(dtype = torch.float)"
   ]
  },
  {
   "cell_type": "code",
   "execution_count": 77,
   "metadata": {},
   "outputs": [],
   "source": [
    "def calc_two_sentiment(overall):\n",
    "    if overall >=3:\n",
    "        return 1\n",
    "    else:\n",
    "        return 0"
   ]
  },
  {
   "cell_type": "code",
   "execution_count": 78,
   "metadata": {},
   "outputs": [],
   "source": [
    "df_new = df.head(10000)"
   ]
  },
  {
   "cell_type": "code",
   "execution_count": 83,
   "metadata": {},
   "outputs": [
    {
     "data": {
      "text/html": [
       "<div>\n",
       "<style scoped>\n",
       "    .dataframe tbody tr th:only-of-type {\n",
       "        vertical-align: middle;\n",
       "    }\n",
       "\n",
       "    .dataframe tbody tr th {\n",
       "        vertical-align: top;\n",
       "    }\n",
       "\n",
       "    .dataframe thead th {\n",
       "        text-align: right;\n",
       "    }\n",
       "</style>\n",
       "<table border=\"1\" class=\"dataframe\">\n",
       "  <thead>\n",
       "    <tr style=\"text-align: right;\">\n",
       "      <th></th>\n",
       "      <th>reviewText</th>\n",
       "      <th>overall</th>\n",
       "    </tr>\n",
       "  </thead>\n",
       "  <tbody>\n",
       "    <tr>\n",
       "      <td>0</td>\n",
       "      <td>pretty good story, a little exaggerated, but I...</td>\n",
       "      <td>4.0</td>\n",
       "    </tr>\n",
       "    <tr>\n",
       "      <td>1</td>\n",
       "      <td>If you've read other max brand westerns, you k...</td>\n",
       "      <td>5.0</td>\n",
       "    </tr>\n",
       "    <tr>\n",
       "      <td>2</td>\n",
       "      <td>Love Max, always a fun twist</td>\n",
       "      <td>5.0</td>\n",
       "    </tr>\n",
       "    <tr>\n",
       "      <td>3</td>\n",
       "      <td>As usual for him, a good book</td>\n",
       "      <td>5.0</td>\n",
       "    </tr>\n",
       "    <tr>\n",
       "      <td>4</td>\n",
       "      <td>MB is one of the original western writers and ...</td>\n",
       "      <td>5.0</td>\n",
       "    </tr>\n",
       "  </tbody>\n",
       "</table>\n",
       "</div>"
      ],
      "text/plain": [
       "                                          reviewText  overall\n",
       "0  pretty good story, a little exaggerated, but I...      4.0\n",
       "1  If you've read other max brand westerns, you k...      5.0\n",
       "2                       Love Max, always a fun twist      5.0\n",
       "3                      As usual for him, a good book      5.0\n",
       "4  MB is one of the original western writers and ...      5.0"
      ]
     },
     "execution_count": 83,
     "metadata": {},
     "output_type": "execute_result"
    }
   ],
   "source": [
    "df_new.head()"
   ]
  },
  {
   "cell_type": "code",
   "execution_count": 84,
   "metadata": {
    "scrolled": true
   },
   "outputs": [
    {
     "name": "stderr",
     "output_type": "stream",
     "text": [
      "/Users/ezgi/opt/anaconda3/envs/learn-env/lib/python3.6/site-packages/ipykernel_launcher.py:1: SettingWithCopyWarning: \n",
      "A value is trying to be set on a copy of a slice from a DataFrame.\n",
      "Try using .loc[row_indexer,col_indexer] = value instead\n",
      "\n",
      "See the caveats in the documentation: http://pandas.pydata.org/pandas-docs/stable/user_guide/indexing.html#returning-a-view-versus-a-copy\n",
      "  \"\"\"Entry point for launching an IPython kernel.\n"
     ]
    }
   ],
   "source": [
    "df_new['sentiments'] = df_new['overall'].apply(calc_two_sentiment)"
   ]
  },
  {
   "cell_type": "code",
   "execution_count": 87,
   "metadata": {},
   "outputs": [
    {
     "data": {
      "text/plain": [
       "1    9143\n",
       "0     857\n",
       "Name: sentiments, dtype: int64"
      ]
     },
     "execution_count": 87,
     "metadata": {},
     "output_type": "execute_result"
    }
   ],
   "source": [
    "df_new['sentiments'].value_counts()"
   ]
  },
  {
   "cell_type": "code",
   "execution_count": 88,
   "metadata": {
    "scrolled": true
   },
   "outputs": [
    {
     "data": {
      "text/html": [
       "<div>\n",
       "<style scoped>\n",
       "    .dataframe tbody tr th:only-of-type {\n",
       "        vertical-align: middle;\n",
       "    }\n",
       "\n",
       "    .dataframe tbody tr th {\n",
       "        vertical-align: top;\n",
       "    }\n",
       "\n",
       "    .dataframe thead th {\n",
       "        text-align: right;\n",
       "    }\n",
       "</style>\n",
       "<table border=\"1\" class=\"dataframe\">\n",
       "  <thead>\n",
       "    <tr style=\"text-align: right;\">\n",
       "      <th></th>\n",
       "      <th>reviewText</th>\n",
       "      <th>overall</th>\n",
       "      <th>sentiments</th>\n",
       "    </tr>\n",
       "  </thead>\n",
       "  <tbody>\n",
       "    <tr>\n",
       "      <td>0</td>\n",
       "      <td>pretty good story, a little exaggerated, but I...</td>\n",
       "      <td>4.0</td>\n",
       "      <td>1</td>\n",
       "    </tr>\n",
       "    <tr>\n",
       "      <td>1</td>\n",
       "      <td>If you've read other max brand westerns, you k...</td>\n",
       "      <td>5.0</td>\n",
       "      <td>1</td>\n",
       "    </tr>\n",
       "    <tr>\n",
       "      <td>2</td>\n",
       "      <td>Love Max, always a fun twist</td>\n",
       "      <td>5.0</td>\n",
       "      <td>1</td>\n",
       "    </tr>\n",
       "    <tr>\n",
       "      <td>3</td>\n",
       "      <td>As usual for him, a good book</td>\n",
       "      <td>5.0</td>\n",
       "      <td>1</td>\n",
       "    </tr>\n",
       "    <tr>\n",
       "      <td>4</td>\n",
       "      <td>MB is one of the original western writers and ...</td>\n",
       "      <td>5.0</td>\n",
       "      <td>1</td>\n",
       "    </tr>\n",
       "    <tr>\n",
       "      <td>...</td>\n",
       "      <td>...</td>\n",
       "      <td>...</td>\n",
       "      <td>...</td>\n",
       "    </tr>\n",
       "    <tr>\n",
       "      <td>9995</td>\n",
       "      <td>Georgette Heyer is a past Master at Historical...</td>\n",
       "      <td>5.0</td>\n",
       "      <td>1</td>\n",
       "    </tr>\n",
       "    <tr>\n",
       "      <td>9996</td>\n",
       "      <td>Good mystery from a romance writer.  I am 7O a...</td>\n",
       "      <td>5.0</td>\n",
       "      <td>1</td>\n",
       "    </tr>\n",
       "    <tr>\n",
       "      <td>9997</td>\n",
       "      <td>Georgette Heyer's mysteries have interesting c...</td>\n",
       "      <td>4.0</td>\n",
       "      <td>1</td>\n",
       "    </tr>\n",
       "    <tr>\n",
       "      <td>9998</td>\n",
       "      <td>I have enjoyed most of Georgette Heyer's myste...</td>\n",
       "      <td>3.0</td>\n",
       "      <td>1</td>\n",
       "    </tr>\n",
       "    <tr>\n",
       "      <td>9999</td>\n",
       "      <td>Another delightful adventure by an amazing aut...</td>\n",
       "      <td>5.0</td>\n",
       "      <td>1</td>\n",
       "    </tr>\n",
       "  </tbody>\n",
       "</table>\n",
       "<p>10000 rows × 3 columns</p>\n",
       "</div>"
      ],
      "text/plain": [
       "                                             reviewText  overall  sentiments\n",
       "0     pretty good story, a little exaggerated, but I...      4.0           1\n",
       "1     If you've read other max brand westerns, you k...      5.0           1\n",
       "2                          Love Max, always a fun twist      5.0           1\n",
       "3                         As usual for him, a good book      5.0           1\n",
       "4     MB is one of the original western writers and ...      5.0           1\n",
       "...                                                 ...      ...         ...\n",
       "9995  Georgette Heyer is a past Master at Historical...      5.0           1\n",
       "9996  Good mystery from a romance writer.  I am 7O a...      5.0           1\n",
       "9997  Georgette Heyer's mysteries have interesting c...      4.0           1\n",
       "9998  I have enjoyed most of Georgette Heyer's myste...      3.0           1\n",
       "9999  Another delightful adventure by an amazing aut...      5.0           1\n",
       "\n",
       "[10000 rows x 3 columns]"
      ]
     },
     "execution_count": 88,
     "metadata": {},
     "output_type": "execute_result"
    }
   ],
   "source": [
    "df_new"
   ]
  },
  {
   "cell_type": "code",
   "execution_count": 90,
   "metadata": {},
   "outputs": [],
   "source": [
    "df_new = df_new.drop(['overall'], axis=1)"
   ]
  },
  {
   "cell_type": "code",
   "execution_count": 91,
   "metadata": {},
   "outputs": [],
   "source": [
    "fields_train = [('reviewText', TEXT),('sentiments', TARGET)]"
   ]
  },
  {
   "cell_type": "code",
   "execution_count": 92,
   "metadata": {},
   "outputs": [],
   "source": [
    "df_new.to_csv('train.csv', index = False)"
   ]
  },
  {
   "cell_type": "code",
   "execution_count": 93,
   "metadata": {},
   "outputs": [],
   "source": [
    "#Reading train.csv\n",
    "train_data = data.TabularDataset(path = 'train.csv',\n",
    "                                 format = 'csv',\n",
    "                                 fields = fields_train,\n",
    "                                 skip_header = True\n",
    ")"
   ]
  },
  {
   "cell_type": "code",
   "execution_count": 94,
   "metadata": {},
   "outputs": [
    {
     "name": "stdout",
     "output_type": "stream",
     "text": [
      "{'reviewText': ['pretty', 'good', 'story,', 'a', 'little', 'exaggerated,', 'but', 'I', 'liked', 'it', 'pretty', 'well.', 'liked', 'the', 'characters,', 'the', 'plot..it', 'had', 'mystery,', 'action,', 'love,', 'all', 'of', 'the', 'main', 'things.', 'I', 'think', 'most', 'western', 'lovers', 'would', 'injoy', 'this', 'book', 'main things.', 'but I', 'western lovers', 'plot..it had', 'it pretty', 'a little', 'mystery, action,', 'well. liked', 'pretty good', 'things. I', 'pretty well.', 'of the', 'characters, the', 'the main', 'this book', 'injoy this', 'exaggerated, but', 'liked it', 'the characters,', 'think most', 'good story,', 'lovers would', 'liked the', 'story, a', 'love, all', 'all of', 'little exaggerated,', 'I think', 'I liked', 'the plot..it', 'action, love,', 'would injoy', 'had mystery,', 'most western'], 'sentiments': '1'}\n"
     ]
    }
   ],
   "source": [
    "print(vars(train_data[0]))"
   ]
  },
  {
   "cell_type": "code",
   "execution_count": 95,
   "metadata": {},
   "outputs": [],
   "source": [
    "#Creating validation set\n",
    "train_data, valid_data = train_data.split(random_state = random.seed(SEED))"
   ]
  },
  {
   "cell_type": "code",
   "execution_count": 96,
   "metadata": {},
   "outputs": [],
   "source": [
    "#Getting the pre-trained word embeddings and building the vocab\n",
    "MAX_VOCAB_SIZE = 25_000\n",
    "\n",
    "TEXT.build_vocab(train_data, \n",
    "                 max_size = MAX_VOCAB_SIZE, \n",
    "                 vectors = \"glove.6B.100d\", \n",
    "                 unk_init = torch.Tensor.normal_)\n",
    "\n",
    "TARGET.build_vocab(train_data)"
   ]
  },
  {
   "cell_type": "code",
   "execution_count": 97,
   "metadata": {},
   "outputs": [],
   "source": [
    "#defining the batch size and defining the iterators for training and validation data\n",
    "BATCH_SIZE = 64\n",
    "\n",
    "device = torch.device('cuda' if torch.cuda.is_available() else 'cpu')\n",
    "\n",
    "train_iterator = data.Iterator(dataset = train_data, batch_size = BATCH_SIZE,device = device, \n",
    "                               shuffle = None, train = True, sort_key = lambda x: len(x.reviewText), \n",
    "                               sort_within_batch = False)\n",
    "valid_iterator = data.Iterator(dataset = valid_data, batch_size = BATCH_SIZE,device = device, \n",
    "                               shuffle = None, train = False, sort_key = lambda x: len(x.reviewText), \n",
    "                               sort_within_batch = False)"
   ]
  },
  {
   "cell_type": "code",
   "execution_count": 98,
   "metadata": {},
   "outputs": [],
   "source": [
    "import torch.nn as nn\n",
    "import torch.nn.functional as F"
   ]
  },
  {
   "cell_type": "code",
   "execution_count": 99,
   "metadata": {},
   "outputs": [],
   "source": [
    "class FastText(nn.Module):\n",
    "    def __init__(self, vocab_size, embedding_dim, output_dim, pad_idx):\n",
    "        \n",
    "        super().__init__()\n",
    "        \n",
    "        self.embedding = nn.Embedding(vocab_size, embedding_dim, padding_idx=pad_idx)\n",
    "        \n",
    "        self.fc = nn.Linear(embedding_dim, output_dim)\n",
    "        \n",
    "    def forward(self, text):\n",
    "        \n",
    "        #text = [sent len, batch size]\n",
    "        \n",
    "        embedded = self.embedding(text)\n",
    "                \n",
    "        #embedded = [sent len, batch size, emb dim]\n",
    "        \n",
    "        embedded = embedded.permute(1, 0, 2)\n",
    "        \n",
    "        #embedded = [batch size, sent len, emb dim]\n",
    "        \n",
    "        pooled = F.avg_pool2d(embedded, (embedded.shape[1], 1)).squeeze(1) \n",
    "        \n",
    "        #pooled = [batch size, embedding_dim]\n",
    "                \n",
    "        return self.fc(pooled)"
   ]
  },
  {
   "cell_type": "code",
   "execution_count": 100,
   "metadata": {},
   "outputs": [],
   "source": [
    "#defining our models and the relevant parameters\n",
    "INPUT_DIM = len(TEXT.vocab)\n",
    "EMBEDDING_DIM = 100\n",
    "OUTPUT_DIM = 1\n",
    "PAD_IDX = TEXT.vocab.stoi[TEXT.pad_token]\n",
    "\n",
    "model = FastText(INPUT_DIM, EMBEDDING_DIM, OUTPUT_DIM, PAD_IDX)"
   ]
  },
  {
   "cell_type": "code",
   "execution_count": 101,
   "metadata": {},
   "outputs": [
    {
     "name": "stdout",
     "output_type": "stream",
     "text": [
      "The model has 2,500,301 trainable parameters\n"
     ]
    }
   ],
   "source": [
    "def count_parameters(model):\n",
    "    return sum(p.numel() for p in model.parameters() if p.requires_grad)\n",
    "\n",
    "print(f'The model has {count_parameters(model):,} trainable parameters')"
   ]
  },
  {
   "cell_type": "code",
   "execution_count": 102,
   "metadata": {},
   "outputs": [
    {
     "data": {
      "text/plain": [
       "tensor([[-0.1117, -0.4966,  0.1631,  ...,  1.2647, -0.2753, -0.1325],\n",
       "        [-0.8555, -0.7208,  1.3755,  ...,  0.0825, -1.1314,  0.3997],\n",
       "        [-0.0382, -0.2449,  0.7281,  ..., -0.1459,  0.8278,  0.2706],\n",
       "        ...,\n",
       "        [-0.0986,  1.3201, -0.8258,  ..., -0.8805, -0.1806,  0.4636],\n",
       "        [-0.5998,  0.4098, -0.0414,  ..., -0.4188,  0.4168,  0.6068],\n",
       "        [ 0.7796, -0.5568, -0.1339,  ..., -0.7090, -2.8543, -0.5610]])"
      ]
     },
     "execution_count": 102,
     "metadata": {},
     "output_type": "execute_result"
    }
   ],
   "source": [
    "#Copying the pre-trained vectors to our embedding layers\n",
    "pretrained_embeddings = TEXT.vocab.vectors\n",
    "\n",
    "model.embedding.weight.data.copy_(pretrained_embeddings)"
   ]
  },
  {
   "cell_type": "code",
   "execution_count": 103,
   "metadata": {},
   "outputs": [],
   "source": [
    "#Zeroing the initial weight of our unknown and padding tokens\n",
    "UNK_IDX = TEXT.vocab.stoi[TEXT.unk_token]\n",
    "\n",
    "model.embedding.weight.data[UNK_IDX] = torch.zeros(EMBEDDING_DIM)\n",
    "model.embedding.weight.data[PAD_IDX] = torch.zeros(EMBEDDING_DIM)"
   ]
  },
  {
   "cell_type": "code",
   "execution_count": 104,
   "metadata": {},
   "outputs": [],
   "source": [
    "import torch.optim as optim"
   ]
  },
  {
   "cell_type": "code",
   "execution_count": 105,
   "metadata": {},
   "outputs": [],
   "source": [
    "optimizer = optim.Adam(model.parameters())"
   ]
  },
  {
   "cell_type": "code",
   "execution_count": 106,
   "metadata": {},
   "outputs": [],
   "source": [
    "#defining our loss and porting our model and loss to GPU\n",
    "criterion = nn.BCEWithLogitsLoss()\n",
    "\n",
    "model = model.to(device)\n",
    "criterion = criterion.to(device)"
   ]
  },
  {
   "cell_type": "code",
   "execution_count": 107,
   "metadata": {},
   "outputs": [],
   "source": [
    "def binary_accuracy(preds, y):\n",
    "    \"\"\"\n",
    "    Returns accuracy per batch, i.e. if you get 8/10 right, this returns 0.8, NOT 8\n",
    "    \"\"\"\n",
    "\n",
    "    #round predictions to the closest integer\n",
    "    rounded_preds = torch.round(torch.sigmoid(preds))\n",
    "    correct = (rounded_preds == y).float() #convert into float for division \n",
    "    acc = correct.sum() / len(correct)\n",
    "    return acc"
   ]
  },
  {
   "cell_type": "code",
   "execution_count": 108,
   "metadata": {},
   "outputs": [],
   "source": [
    "#defining the training method\n",
    "def train(model, iterator, optimizer, criterion):\n",
    "    \n",
    "    epoch_loss = 0\n",
    "    epoch_acc = 0\n",
    "    \n",
    "    model.train()\n",
    "    \n",
    "    for batch in iterator:\n",
    "        \n",
    "        optimizer.zero_grad()\n",
    "        \n",
    "        predictions = model(batch.reviewText).squeeze(1)\n",
    "        \n",
    "        loss = criterion(predictions, batch.sentiments)\n",
    "        \n",
    "        acc = binary_accuracy(predictions, batch.sentiments)\n",
    "        \n",
    "        loss.backward()\n",
    "        \n",
    "        optimizer.step()\n",
    "        \n",
    "        epoch_loss += loss.item()\n",
    "        epoch_acc += acc.item()\n",
    "        \n",
    "    return epoch_loss / len(iterator), epoch_acc / len(iterator)\n",
    "#defining the validation method\n",
    "def evaluate(model, iterator, criterion):\n",
    "    \n",
    "    epoch_loss = 0\n",
    "    epoch_acc = 0\n",
    "    \n",
    "    model.eval()\n",
    "    \n",
    "    with torch.no_grad():\n",
    "    \n",
    "        for batch in iterator:\n",
    "\n",
    "            predictions = model(batch.reviewText).squeeze(1)\n",
    "            \n",
    "            loss = criterion(predictions, batch.sentiments)\n",
    "            \n",
    "            acc = binary_accuracy(predictions, batch.sentiments)\n",
    "\n",
    "            epoch_loss += loss.item()\n",
    "            epoch_acc += acc.item()\n",
    "        \n",
    "    return epoch_loss / len(iterator), epoch_acc / len(iterator)"
   ]
  },
  {
   "cell_type": "code",
   "execution_count": 109,
   "metadata": {},
   "outputs": [],
   "source": [
    "#defining the method to calculate epoch time\n",
    "import time\n",
    "\n",
    "def epoch_time(start_time, end_time):\n",
    "    elapsed_time = end_time - start_time\n",
    "    elapsed_mins = int(elapsed_time / 60)\n",
    "    elapsed_secs = int(elapsed_time - (elapsed_mins * 60))\n",
    "    return elapsed_mins, elapsed_secs"
   ]
  },
  {
   "cell_type": "code",
   "execution_count": 110,
   "metadata": {},
   "outputs": [
    {
     "name": "stdout",
     "output_type": "stream",
     "text": [
      "Epoch: 01 | Epoch Time: 0m 22s\n",
      "\tTrain Loss: 0.628 | Train Acc: 90.15%\n",
      "\t Val. Loss: 0.300 |  Val. Acc: 91.62%\n",
      "Epoch: 02 | Epoch Time: 0m 22s\n",
      "\tTrain Loss: 0.529 | Train Acc: 91.27%\n",
      "\t Val. Loss: 0.372 |  Val. Acc: 91.79%\n",
      "Epoch: 03 | Epoch Time: 0m 22s\n",
      "\tTrain Loss: 0.479 | Train Acc: 91.27%\n",
      "\t Val. Loss: 0.478 |  Val. Acc: 91.82%\n",
      "Epoch: 04 | Epoch Time: 0m 25s\n",
      "\tTrain Loss: 0.452 | Train Acc: 91.27%\n",
      "\t Val. Loss: 0.543 |  Val. Acc: 91.82%\n",
      "Epoch: 05 | Epoch Time: 0m 25s\n",
      "\tTrain Loss: 0.438 | Train Acc: 91.20%\n",
      "\t Val. Loss: 0.564 |  Val. Acc: 91.82%\n",
      "Epoch: 06 | Epoch Time: 0m 33s\n",
      "\tTrain Loss: 0.416 | Train Acc: 91.27%\n",
      "\t Val. Loss: 0.554 |  Val. Acc: 91.82%\n",
      "Epoch: 07 | Epoch Time: 0m 26s\n",
      "\tTrain Loss: 0.404 | Train Acc: 91.22%\n",
      "\t Val. Loss: 0.532 |  Val. Acc: 91.82%\n",
      "Epoch: 08 | Epoch Time: 0m 26s\n",
      "\tTrain Loss: 0.388 | Train Acc: 91.27%\n",
      "\t Val. Loss: 0.507 |  Val. Acc: 91.86%\n",
      "Epoch: 09 | Epoch Time: 0m 24s\n",
      "\tTrain Loss: 0.371 | Train Acc: 91.17%\n",
      "\t Val. Loss: 0.476 |  Val. Acc: 91.89%\n",
      "Epoch: 10 | Epoch Time: 0m 26s\n",
      "\tTrain Loss: 0.350 | Train Acc: 91.22%\n",
      "\t Val. Loss: 0.436 |  Val. Acc: 91.92%\n",
      "Epoch: 11 | Epoch Time: 0m 30s\n",
      "\tTrain Loss: 0.334 | Train Acc: 91.29%\n",
      "\t Val. Loss: 0.409 |  Val. Acc: 91.49%\n",
      "Epoch: 12 | Epoch Time: 0m 27s\n",
      "\tTrain Loss: 0.313 | Train Acc: 91.39%\n",
      "\t Val. Loss: 0.385 |  Val. Acc: 91.22%\n",
      "Epoch: 13 | Epoch Time: 0m 25s\n",
      "\tTrain Loss: 0.298 | Train Acc: 91.33%\n",
      "\t Val. Loss: 0.371 |  Val. Acc: 91.19%\n",
      "Epoch: 14 | Epoch Time: 0m 28s\n",
      "\tTrain Loss: 0.280 | Train Acc: 91.50%\n",
      "\t Val. Loss: 0.362 |  Val. Acc: 91.32%\n",
      "Epoch: 15 | Epoch Time: 0m 26s\n",
      "\tTrain Loss: 0.264 | Train Acc: 91.72%\n",
      "\t Val. Loss: 0.350 |  Val. Acc: 91.69%\n",
      "Epoch: 16 | Epoch Time: 0m 26s\n",
      "\tTrain Loss: 0.248 | Train Acc: 91.95%\n",
      "\t Val. Loss: 0.349 |  Val. Acc: 91.56%\n",
      "Epoch: 17 | Epoch Time: 0m 26s\n",
      "\tTrain Loss: 0.238 | Train Acc: 92.05%\n",
      "\t Val. Loss: 0.357 |  Val. Acc: 91.72%\n",
      "Epoch: 18 | Epoch Time: 0m 27s\n",
      "\tTrain Loss: 0.224 | Train Acc: 92.35%\n",
      "\t Val. Loss: 0.355 |  Val. Acc: 92.02%\n",
      "Epoch: 19 | Epoch Time: 0m 27s\n",
      "\tTrain Loss: 0.214 | Train Acc: 92.56%\n",
      "\t Val. Loss: 0.346 |  Val. Acc: 92.16%\n",
      "Epoch: 20 | Epoch Time: 0m 29s\n",
      "\tTrain Loss: 0.206 | Train Acc: 92.72%\n",
      "\t Val. Loss: 0.352 |  Val. Acc: 92.36%\n"
     ]
    }
   ],
   "source": [
    "#TRAINING!\n",
    "N_EPOCHS = 20\n",
    "\n",
    "best_valid_loss = float('inf')\n",
    "\n",
    "for epoch in range(N_EPOCHS):\n",
    "\n",
    "    start_time = time.time()\n",
    "    \n",
    "    train_loss, train_acc = train(model, train_iterator, optimizer, criterion)\n",
    "    valid_loss, valid_acc = evaluate(model, valid_iterator, criterion)\n",
    "    \n",
    "    end_time = time.time()\n",
    "\n",
    "    epoch_mins, epoch_secs = epoch_time(start_time, end_time)\n",
    "    \n",
    "    if valid_loss < best_valid_loss:\n",
    "        best_valid_loss = valid_loss\n",
    "        torch.save(model.state_dict(), 'tut3-model.pt')\n",
    "    \n",
    "    print(f'Epoch: {epoch+1:02} | Epoch Time: {epoch_mins}m {epoch_secs}s')\n",
    "    print(f'\\tTrain Loss: {train_loss:.3f} | Train Acc: {train_acc*100:.2f}%')\n",
    "    print(f'\\t Val. Loss: {valid_loss:.3f} |  Val. Acc: {valid_acc*100:.2f}%')"
   ]
  },
  {
   "cell_type": "code",
   "execution_count": null,
   "metadata": {},
   "outputs": [],
   "source": []
  }
 ],
 "metadata": {
  "kernelspec": {
   "display_name": "Python 3",
   "language": "python",
   "name": "python3"
  },
  "language_info": {
   "codemirror_mode": {
    "name": "ipython",
    "version": 3
   },
   "file_extension": ".py",
   "mimetype": "text/x-python",
   "name": "python",
   "nbconvert_exporter": "python",
   "pygments_lexer": "ipython3",
   "version": "3.6.9"
  }
 },
 "nbformat": 4,
 "nbformat_minor": 2
}
